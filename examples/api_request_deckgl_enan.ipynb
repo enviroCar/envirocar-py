{
 "cells": [
  {
   "cell_type": "markdown",
   "metadata": {},
   "source": [
    "# Package loading and basic configurations"
   ]
  },
  {
   "cell_type": "code",
   "execution_count": 1,
   "metadata": {},
   "outputs": [],
   "source": [
    "%load_ext autoreload\n",
    "%autoreload 2\n",
    "\n",
    "# load dependencies'\n",
    "import pandas as pd\n",
    "import geopandas as gpd\n",
    "\n",
    "from envirocar import TrackAPI, DownloadClient, BboxSelector, ECConfig\n",
    "\n",
    "# create an initial but optional config and an api client\n",
    "config = ECConfig()\n",
    "track_api = TrackAPI(api_client=DownloadClient(config=config))"
   ]
  },
  {
   "cell_type": "markdown",
   "metadata": {},
   "source": [
    "# Querying enviroCar Tracks"
   ]
  },
  {
   "cell_type": "markdown",
   "metadata": {},
   "source": [
    "The following cell queries tracks from the enviroCar API. It defines a bbox for the area of Münster (Germany) and requests 50 tracks. The result is a GeoDataFrame, which is a geo-extended Pandas dataframe from the GeoPandas library. It contains all information of the track in a flat dataframe format including a specific geometry column. "
   ]
  },
  {
   "cell_type": "code",
   "execution_count": 2,
   "metadata": {},
   "outputs": [
    {
     "data": {
      "text/html": [
       "<div>\n",
       "<style scoped>\n",
       "    .dataframe tbody tr th:only-of-type {\n",
       "        vertical-align: middle;\n",
       "    }\n",
       "\n",
       "    .dataframe tbody tr th {\n",
       "        vertical-align: top;\n",
       "    }\n",
       "\n",
       "    .dataframe thead th {\n",
       "        text-align: right;\n",
       "    }\n",
       "</style>\n",
       "<table border=\"1\" class=\"dataframe\">\n",
       "  <thead>\n",
       "    <tr style=\"text-align: right;\">\n",
       "      <th></th>\n",
       "      <th>id</th>\n",
       "      <th>time</th>\n",
       "      <th>geometry</th>\n",
       "      <th>GPS PDOP.value</th>\n",
       "      <th>GPS PDOP.unit</th>\n",
       "      <th>Speed.value</th>\n",
       "      <th>Speed.unit</th>\n",
       "      <th>GPS Altitude.value</th>\n",
       "      <th>GPS Altitude.unit</th>\n",
       "      <th>GPS Bearing.value</th>\n",
       "      <th>...</th>\n",
       "      <th>Consumption.value</th>\n",
       "      <th>Consumption.unit</th>\n",
       "      <th>track.appVersion</th>\n",
       "      <th>track.touVersion</th>\n",
       "      <th>O2 Lambda Voltage ER.value</th>\n",
       "      <th>O2 Lambda Voltage ER.unit</th>\n",
       "      <th>MAF.value</th>\n",
       "      <th>MAF.unit</th>\n",
       "      <th>O2 Lambda Voltage.value</th>\n",
       "      <th>O2 Lambda Voltage.unit</th>\n",
       "    </tr>\n",
       "  </thead>\n",
       "  <tbody>\n",
       "    <tr>\n",
       "      <th>0</th>\n",
       "      <td>5e8b930965b80c5d6b4d7cd1</td>\n",
       "      <td>2020-03-07T12:33:15</td>\n",
       "      <td>POINT (7.64069 51.95733)</td>\n",
       "      <td>1.090631</td>\n",
       "      <td>precision</td>\n",
       "      <td>28.999999</td>\n",
       "      <td>km/h</td>\n",
       "      <td>110.381939</td>\n",
       "      <td>m</td>\n",
       "      <td>124.858622</td>\n",
       "      <td>...</td>\n",
       "      <td>NaN</td>\n",
       "      <td>NaN</td>\n",
       "      <td>NaN</td>\n",
       "      <td>NaN</td>\n",
       "      <td>NaN</td>\n",
       "      <td>NaN</td>\n",
       "      <td>NaN</td>\n",
       "      <td>NaN</td>\n",
       "      <td>NaN</td>\n",
       "      <td>NaN</td>\n",
       "    </tr>\n",
       "    <tr>\n",
       "      <th>1</th>\n",
       "      <td>5e8b930965b80c5d6b4d7cd3</td>\n",
       "      <td>2020-03-07T12:33:20</td>\n",
       "      <td>POINT (7.64118 51.95712)</td>\n",
       "      <td>1.000000</td>\n",
       "      <td>precision</td>\n",
       "      <td>28.000000</td>\n",
       "      <td>km/h</td>\n",
       "      <td>108.260375</td>\n",
       "      <td>m</td>\n",
       "      <td>125.020801</td>\n",
       "      <td>...</td>\n",
       "      <td>NaN</td>\n",
       "      <td>NaN</td>\n",
       "      <td>NaN</td>\n",
       "      <td>NaN</td>\n",
       "      <td>NaN</td>\n",
       "      <td>NaN</td>\n",
       "      <td>NaN</td>\n",
       "      <td>NaN</td>\n",
       "      <td>NaN</td>\n",
       "      <td>NaN</td>\n",
       "    </tr>\n",
       "    <tr>\n",
       "      <th>2</th>\n",
       "      <td>5e8b930965b80c5d6b4d7cd4</td>\n",
       "      <td>2020-03-07T12:33:26</td>\n",
       "      <td>POINT (7.64162 51.95690)</td>\n",
       "      <td>1.257198</td>\n",
       "      <td>precision</td>\n",
       "      <td>28.000001</td>\n",
       "      <td>km/h</td>\n",
       "      <td>105.826028</td>\n",
       "      <td>m</td>\n",
       "      <td>121.203960</td>\n",
       "      <td>...</td>\n",
       "      <td>NaN</td>\n",
       "      <td>NaN</td>\n",
       "      <td>NaN</td>\n",
       "      <td>NaN</td>\n",
       "      <td>NaN</td>\n",
       "      <td>NaN</td>\n",
       "      <td>NaN</td>\n",
       "      <td>NaN</td>\n",
       "      <td>NaN</td>\n",
       "      <td>NaN</td>\n",
       "    </tr>\n",
       "    <tr>\n",
       "      <th>3</th>\n",
       "      <td>5e8b930965b80c5d6b4d7cd5</td>\n",
       "      <td>2020-03-07T12:33:31</td>\n",
       "      <td>POINT (7.64210 51.95672)</td>\n",
       "      <td>1.000000</td>\n",
       "      <td>precision</td>\n",
       "      <td>30.000000</td>\n",
       "      <td>km/h</td>\n",
       "      <td>104.395998</td>\n",
       "      <td>m</td>\n",
       "      <td>123.412759</td>\n",
       "      <td>...</td>\n",
       "      <td>NaN</td>\n",
       "      <td>NaN</td>\n",
       "      <td>NaN</td>\n",
       "      <td>NaN</td>\n",
       "      <td>NaN</td>\n",
       "      <td>NaN</td>\n",
       "      <td>NaN</td>\n",
       "      <td>NaN</td>\n",
       "      <td>NaN</td>\n",
       "      <td>NaN</td>\n",
       "    </tr>\n",
       "    <tr>\n",
       "      <th>4</th>\n",
       "      <td>5e8b930965b80c5d6b4d7cd6</td>\n",
       "      <td>2020-03-07T12:33:36</td>\n",
       "      <td>POINT (7.64264 51.95650)</td>\n",
       "      <td>1.026727</td>\n",
       "      <td>precision</td>\n",
       "      <td>31.409419</td>\n",
       "      <td>km/h</td>\n",
       "      <td>101.516865</td>\n",
       "      <td>m</td>\n",
       "      <td>122.170479</td>\n",
       "      <td>...</td>\n",
       "      <td>NaN</td>\n",
       "      <td>NaN</td>\n",
       "      <td>NaN</td>\n",
       "      <td>NaN</td>\n",
       "      <td>NaN</td>\n",
       "      <td>NaN</td>\n",
       "      <td>NaN</td>\n",
       "      <td>NaN</td>\n",
       "      <td>NaN</td>\n",
       "      <td>NaN</td>\n",
       "    </tr>\n",
       "    <tr>\n",
       "      <th>...</th>\n",
       "      <td>...</td>\n",
       "      <td>...</td>\n",
       "      <td>...</td>\n",
       "      <td>...</td>\n",
       "      <td>...</td>\n",
       "      <td>...</td>\n",
       "      <td>...</td>\n",
       "      <td>...</td>\n",
       "      <td>...</td>\n",
       "      <td>...</td>\n",
       "      <td>...</td>\n",
       "      <td>...</td>\n",
       "      <td>...</td>\n",
       "      <td>...</td>\n",
       "      <td>...</td>\n",
       "      <td>...</td>\n",
       "      <td>...</td>\n",
       "      <td>...</td>\n",
       "      <td>...</td>\n",
       "      <td>...</td>\n",
       "      <td>...</td>\n",
       "    </tr>\n",
       "    <tr>\n",
       "      <th>238</th>\n",
       "      <td>5ddcdd4a44ea85025cfdf969</td>\n",
       "      <td>2019-11-25T16:33:36</td>\n",
       "      <td>POINT (7.59412 51.96520)</td>\n",
       "      <td>1.349396</td>\n",
       "      <td>precision</td>\n",
       "      <td>42.000000</td>\n",
       "      <td>km/h</td>\n",
       "      <td>107.554027</td>\n",
       "      <td>m</td>\n",
       "      <td>280.133557</td>\n",
       "      <td>...</td>\n",
       "      <td>3.254820</td>\n",
       "      <td>l/h</td>\n",
       "      <td>NaN</td>\n",
       "      <td>NaN</td>\n",
       "      <td>NaN</td>\n",
       "      <td>NaN</td>\n",
       "      <td>NaN</td>\n",
       "      <td>NaN</td>\n",
       "      <td>NaN</td>\n",
       "      <td>NaN</td>\n",
       "    </tr>\n",
       "    <tr>\n",
       "      <th>239</th>\n",
       "      <td>5ddcdd4a44ea85025cfdf96a</td>\n",
       "      <td>2019-11-25T16:33:41</td>\n",
       "      <td>POINT (7.59321 51.96524)</td>\n",
       "      <td>1.300000</td>\n",
       "      <td>precision</td>\n",
       "      <td>45.284362</td>\n",
       "      <td>km/h</td>\n",
       "      <td>107.946336</td>\n",
       "      <td>m</td>\n",
       "      <td>275.726263</td>\n",
       "      <td>...</td>\n",
       "      <td>2.096417</td>\n",
       "      <td>l/h</td>\n",
       "      <td>NaN</td>\n",
       "      <td>NaN</td>\n",
       "      <td>NaN</td>\n",
       "      <td>NaN</td>\n",
       "      <td>NaN</td>\n",
       "      <td>NaN</td>\n",
       "      <td>NaN</td>\n",
       "      <td>NaN</td>\n",
       "    </tr>\n",
       "    <tr>\n",
       "      <th>240</th>\n",
       "      <td>5ddcdd4a44ea85025cfdf96b</td>\n",
       "      <td>2019-11-25T16:33:46</td>\n",
       "      <td>POINT (7.59233 51.96528)</td>\n",
       "      <td>1.300000</td>\n",
       "      <td>precision</td>\n",
       "      <td>41.000001</td>\n",
       "      <td>km/h</td>\n",
       "      <td>108.514256</td>\n",
       "      <td>m</td>\n",
       "      <td>276.580282</td>\n",
       "      <td>...</td>\n",
       "      <td>1.910383</td>\n",
       "      <td>l/h</td>\n",
       "      <td>NaN</td>\n",
       "      <td>NaN</td>\n",
       "      <td>NaN</td>\n",
       "      <td>NaN</td>\n",
       "      <td>NaN</td>\n",
       "      <td>NaN</td>\n",
       "      <td>NaN</td>\n",
       "      <td>NaN</td>\n",
       "    </tr>\n",
       "    <tr>\n",
       "      <th>241</th>\n",
       "      <td>5ddcdd4a44ea85025cfdf96c</td>\n",
       "      <td>2019-11-25T16:33:51</td>\n",
       "      <td>POINT (7.59147 51.96533)</td>\n",
       "      <td>1.300000</td>\n",
       "      <td>precision</td>\n",
       "      <td>42.000001</td>\n",
       "      <td>km/h</td>\n",
       "      <td>109.425592</td>\n",
       "      <td>m</td>\n",
       "      <td>276.176601</td>\n",
       "      <td>...</td>\n",
       "      <td>1.451470</td>\n",
       "      <td>l/h</td>\n",
       "      <td>NaN</td>\n",
       "      <td>NaN</td>\n",
       "      <td>NaN</td>\n",
       "      <td>NaN</td>\n",
       "      <td>NaN</td>\n",
       "      <td>NaN</td>\n",
       "      <td>NaN</td>\n",
       "      <td>NaN</td>\n",
       "    </tr>\n",
       "    <tr>\n",
       "      <th>242</th>\n",
       "      <td>5ddcdd4a44ea85025cfdf96d</td>\n",
       "      <td>2019-11-25T16:33:56</td>\n",
       "      <td>POINT (7.59065 51.96538)</td>\n",
       "      <td>1.336263</td>\n",
       "      <td>precision</td>\n",
       "      <td>40.000000</td>\n",
       "      <td>km/h</td>\n",
       "      <td>109.624229</td>\n",
       "      <td>m</td>\n",
       "      <td>276.668818</td>\n",
       "      <td>...</td>\n",
       "      <td>1.419319</td>\n",
       "      <td>l/h</td>\n",
       "      <td>NaN</td>\n",
       "      <td>NaN</td>\n",
       "      <td>NaN</td>\n",
       "      <td>NaN</td>\n",
       "      <td>NaN</td>\n",
       "      <td>NaN</td>\n",
       "      <td>NaN</td>\n",
       "      <td>NaN</td>\n",
       "    </tr>\n",
       "  </tbody>\n",
       "</table>\n",
       "<p>6523 rows × 54 columns</p>\n",
       "</div>"
      ],
      "text/plain": [
       "                           id                 time                  geometry  \\\n",
       "0    5e8b930965b80c5d6b4d7cd1  2020-03-07T12:33:15  POINT (7.64069 51.95733)   \n",
       "1    5e8b930965b80c5d6b4d7cd3  2020-03-07T12:33:20  POINT (7.64118 51.95712)   \n",
       "2    5e8b930965b80c5d6b4d7cd4  2020-03-07T12:33:26  POINT (7.64162 51.95690)   \n",
       "3    5e8b930965b80c5d6b4d7cd5  2020-03-07T12:33:31  POINT (7.64210 51.95672)   \n",
       "4    5e8b930965b80c5d6b4d7cd6  2020-03-07T12:33:36  POINT (7.64264 51.95650)   \n",
       "..                        ...                  ...                       ...   \n",
       "238  5ddcdd4a44ea85025cfdf969  2019-11-25T16:33:36  POINT (7.59412 51.96520)   \n",
       "239  5ddcdd4a44ea85025cfdf96a  2019-11-25T16:33:41  POINT (7.59321 51.96524)   \n",
       "240  5ddcdd4a44ea85025cfdf96b  2019-11-25T16:33:46  POINT (7.59233 51.96528)   \n",
       "241  5ddcdd4a44ea85025cfdf96c  2019-11-25T16:33:51  POINT (7.59147 51.96533)   \n",
       "242  5ddcdd4a44ea85025cfdf96d  2019-11-25T16:33:56  POINT (7.59065 51.96538)   \n",
       "\n",
       "     GPS PDOP.value GPS PDOP.unit  Speed.value Speed.unit  GPS Altitude.value  \\\n",
       "0          1.090631     precision    28.999999       km/h          110.381939   \n",
       "1          1.000000     precision    28.000000       km/h          108.260375   \n",
       "2          1.257198     precision    28.000001       km/h          105.826028   \n",
       "3          1.000000     precision    30.000000       km/h          104.395998   \n",
       "4          1.026727     precision    31.409419       km/h          101.516865   \n",
       "..              ...           ...          ...        ...                 ...   \n",
       "238        1.349396     precision    42.000000       km/h          107.554027   \n",
       "239        1.300000     precision    45.284362       km/h          107.946336   \n",
       "240        1.300000     precision    41.000001       km/h          108.514256   \n",
       "241        1.300000     precision    42.000001       km/h          109.425592   \n",
       "242        1.336263     precision    40.000000       km/h          109.624229   \n",
       "\n",
       "    GPS Altitude.unit  GPS Bearing.value  ... Consumption.value  \\\n",
       "0                   m         124.858622  ...               NaN   \n",
       "1                   m         125.020801  ...               NaN   \n",
       "2                   m         121.203960  ...               NaN   \n",
       "3                   m         123.412759  ...               NaN   \n",
       "4                   m         122.170479  ...               NaN   \n",
       "..                ...                ...  ...               ...   \n",
       "238                 m         280.133557  ...          3.254820   \n",
       "239                 m         275.726263  ...          2.096417   \n",
       "240                 m         276.580282  ...          1.910383   \n",
       "241                 m         276.176601  ...          1.451470   \n",
       "242                 m         276.668818  ...          1.419319   \n",
       "\n",
       "     Consumption.unit track.appVersion  track.touVersion  \\\n",
       "0                 NaN              NaN               NaN   \n",
       "1                 NaN              NaN               NaN   \n",
       "2                 NaN              NaN               NaN   \n",
       "3                 NaN              NaN               NaN   \n",
       "4                 NaN              NaN               NaN   \n",
       "..                ...              ...               ...   \n",
       "238               l/h              NaN               NaN   \n",
       "239               l/h              NaN               NaN   \n",
       "240               l/h              NaN               NaN   \n",
       "241               l/h              NaN               NaN   \n",
       "242               l/h              NaN               NaN   \n",
       "\n",
       "    O2 Lambda Voltage ER.value  O2 Lambda Voltage ER.unit MAF.value  MAF.unit  \\\n",
       "0                          NaN                        NaN       NaN       NaN   \n",
       "1                          NaN                        NaN       NaN       NaN   \n",
       "2                          NaN                        NaN       NaN       NaN   \n",
       "3                          NaN                        NaN       NaN       NaN   \n",
       "4                          NaN                        NaN       NaN       NaN   \n",
       "..                         ...                        ...       ...       ...   \n",
       "238                        NaN                        NaN       NaN       NaN   \n",
       "239                        NaN                        NaN       NaN       NaN   \n",
       "240                        NaN                        NaN       NaN       NaN   \n",
       "241                        NaN                        NaN       NaN       NaN   \n",
       "242                        NaN                        NaN       NaN       NaN   \n",
       "\n",
       "    O2 Lambda Voltage.value  O2 Lambda Voltage.unit  \n",
       "0                       NaN                     NaN  \n",
       "1                       NaN                     NaN  \n",
       "2                       NaN                     NaN  \n",
       "3                       NaN                     NaN  \n",
       "4                       NaN                     NaN  \n",
       "..                      ...                     ...  \n",
       "238                     NaN                     NaN  \n",
       "239                     NaN                     NaN  \n",
       "240                     NaN                     NaN  \n",
       "241                     NaN                     NaN  \n",
       "242                     NaN                     NaN  \n",
       "\n",
       "[6523 rows x 54 columns]"
      ]
     },
     "execution_count": 2,
     "metadata": {},
     "output_type": "execute_result"
    }
   ],
   "source": [
    "bbox = BboxSelector([\n",
    "    7.601165771484375, # min_x\n",
    "    51.94807412325402, # min_y\n",
    "    7.648200988769531, # max_x\n",
    "    51.97261482608728  # max_y\n",
    "])\n",
    "\n",
    "# issue a query\n",
    "track_df = track_api.get_tracks(bbox=bbox, num_results=30) # requesting 30 tracks inside the bbox\n",
    "track_df"
   ]
  },
  {
   "cell_type": "code",
   "execution_count": 4,
   "metadata": {},
   "outputs": [
    {
     "data": {
      "text/plain": [
       "<matplotlib.axes._subplots.AxesSubplot at 0xaca6970>"
      ]
     },
     "execution_count": 4,
     "metadata": {},
     "output_type": "execute_result"
    },
    {
     "data": {
      "image/png": "[encoded data removed]",
      "text/plain": [
       "<Figure size 360x360 with 1 Axes>"
      ]
     },
     "metadata": {
      "needs_background": "light"
     },
     "output_type": "display_data"
    }
   ],
   "source": [
    "track_df.plot(figsize=(5, 5))"
   ]
  },
  {
   "cell_type": "markdown",
   "metadata": {},
   "source": [
    "# Inspecting a single Track unique id 1"
   ]
  },
  {
   "cell_type": "code",
   "execution_count": 5,
   "metadata": {},
   "outputs": [
    {
     "data": {
      "text/plain": [
       "<matplotlib.axes._subplots.AxesSubplot at 0xad5ee50>"
      ]
     },
     "execution_count": 5,
     "metadata": {},
     "output_type": "execute_result"
    },
    {
     "data": {
      "image/png": "[encoded data removed]",
      "text/plain": [
       "<Figure size 432x288 with 1 Axes>"
      ]
     },
     "metadata": {
      "needs_background": "light"
     },
     "output_type": "display_data"
    }
   ],
   "source": [
    "some_track_id = track_df['track.id'].unique()[1]\n",
    "some_track = track_df[track_df['track.id'] == some_track_id]\n",
    "some_track.plot()"
   ]
  },
  {
   "cell_type": "code",
   "execution_count": 6,
   "metadata": {},
   "outputs": [
    {
     "data": {
      "text/plain": [
       "<matplotlib.axes._subplots.AxesSubplot at 0xc3e8930>"
      ]
     },
     "execution_count": 6,
     "metadata": {},
     "output_type": "execute_result"
    },
    {
     "data": {
      "image/png": "[encoded data removed]",
      "text/plain": [
       "<Figure size 432x288 with 1 Axes>"
      ]
     },
     "metadata": {
      "needs_background": "light"
     },
     "output_type": "display_data"
    }
   ],
   "source": [
    "ax = some_track['GPS Altitude.value'].plot()\n",
    "ax.set_title(\"GPS Altitude\")\n",
    "ax.set_ylabel(some_track['GPS Altitude.unit'][1])\n",
    "ax"
   ]
  },
  {
   "cell_type": "markdown",
   "metadata": {},
   "source": [
    "## Interactive Map\n",
    "The following map-based visualization makes use of folium. It allows to visualizate geospatial data based on an interactive leaflet map. Since the data in the GeoDataframe is modelled as a set of Point instead of a LineString, we have to manually create a polyline"
   ]
  },
  {
   "cell_type": "code",
   "execution_count": 7,
   "metadata": {},
   "outputs": [
    {
     "data": {
      "text/html": [
       "<div style=\"width:100%;\"><div style=\"position:relative;width:100%;height:0;padding-bottom:60%;\"><iframe src=\"about:blank\" style=\"position:absolute;width:100%;height:100%;left:0;top:0;border:none !important;\" data-html=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 onload=\"this.contentDocument.open();this.contentDocument.write(atob(this.getAttribute('data-html')));this.contentDocument.close();\" allowfullscreen webkitallowfullscreen mozallowfullscreen></iframe></div></div>"
      ],
      "text/plain": [
       "<folium.folium.Map at 0xc41b830>"
      ]
     },
     "execution_count": 7,
     "metadata": {},
     "output_type": "execute_result"
    }
   ],
   "source": [
    "import folium\n",
    "\n",
    "lats = list(some_track['geometry'].apply(lambda coord: coord.y))\n",
    "lngs = list(some_track['geometry'].apply(lambda coord: coord.x))\n",
    "\n",
    "avg_lat = sum(lats) / len(lats)\n",
    "avg_lngs = sum(lngs) / len(lngs)\n",
    "\n",
    "m = folium.Map(location=[avg_lat, avg_lngs], zoom_start=13)\n",
    "folium.PolyLine([coords for coords in zip(lats, lngs)], color='Cyan').add_to(m)\n",
    "m"
   ]
  },
  {
   "cell_type": "markdown",
   "metadata": {},
   "source": [
    "# Example: Visualization with pydeck (deck.gl)"
   ]
  },
  {
   "cell_type": "markdown",
   "metadata": {},
   "source": [
    "The pydeck library makes use of the basemap tiles from Mapbox. In case you want to visualize the map with basemap tiles, you need to register with MapBox, and configure a specific access token. The service is free until a certain level of traffic is esceeded.\n",
    "\n",
    "You can either configure it via your terminal (i.e. `export MAPBOX_API_KEY=<mapbox-key-here>`), which pydeck will automatically read, or you can pass it as a variable to the generation of pydeck (i.e. `pdk.Deck(mapbox_key=<mapbox-key-here>, ...)`."
   ]
  },
  {
   "cell_type": "code",
   "execution_count": 8,
   "metadata": {},
   "outputs": [
    {
     "data": {
      "text/html": [
       "\n",
       "        <iframe\n",
       "            width=\"1050\"\n",
       "            height=\"500\"\n",
       "            src=\"./tracks_muenster.html\"\n",
       "            frameborder=\"0\"\n",
       "            allowfullscreen\n",
       "        ></iframe>\n",
       "        "
      ],
      "text/plain": [
       "<IPython.lib.display.IFrame at 0xc9109d0>"
      ]
     },
     "metadata": {},
     "output_type": "display_data"
    },
    {
     "data": {
      "text/plain": [
       "'C:\\\\Users\\\\enan\\\\envirocar-py\\\\examples\\\\tracks_muenster.html'"
      ]
     },
     "execution_count": 8,
     "metadata": {},
     "output_type": "execute_result"
    }
   ],
   "source": [
    "import pydeck as pdk\n",
    "\n",
    "# for pydeck the attributes have to be flat\n",
    "track_df['lat'] = track_df['geometry'].apply(lambda coord: coord.y)\n",
    "track_df['lng'] = track_df['geometry'].apply(lambda coord: coord.x)\n",
    "vis_df = pd.DataFrame(track_df)\n",
    "vis_df['speed'] = vis_df['Speed.value']\n",
    "\n",
    "# omit unit columns\n",
    "vis_df_cols = [col for col in vis_df.columns if col.lower()[len(col)-4:len(col)] != 'unit']\n",
    "vis_df = vis_df[vis_df_cols]\n",
    "\n",
    "layer = pdk.Layer(\n",
    "    'ScatterplotLayer',\n",
    "    data=vis_df,\n",
    "    get_position='[lng, lat]',\n",
    "    auto_highlight=True,\n",
    "    get_radius=10,          # Radius is given in meters\n",
    "    get_fill_color='[speed < 20 ? 0 : (speed - 20)*8.5, speed < 50 ? 255 : 255 - (speed-50)*8.5, 0, 140]',  # Set an RGBA value for fill\n",
    "    pickable=True\n",
    ")\n",
    "\n",
    "# Set the viewport location\n",
    "view_state = pdk.ViewState(\n",
    "    longitude=7.7063592529296875,\n",
    "    latitude=51.96246168188569,\n",
    "    zoom=11,\n",
    "    min_zoom=10,\n",
    "    max_zoom=20,\n",
    "    pitch=40.5,\n",
    "    bearing=-27.36)\n",
    "\n",
    "r = pdk.Deck(\n",
    "    width=200, \n",
    "    layers=[layer], \n",
    "    initial_view_state=view_state, mapbox_key='pk.eyJ1IjoiZXNtYXRlbmFuIiwiYSI6ImNrNmsxMzR4bzAxdzAzbG5zaTkyaWJrcmwifQ.V8Nd3GGomopO8m9cwRddlg'#, mapbox_key=<mapbox-key-here>\n",
    ")\n",
    "r.to_html('tracks_muenster.html', iframe_width=1050)"
   ]
  },
  {
   "cell_type": "code",
   "execution_count": null,
   "metadata": {},
   "outputs": [],
   "source": []
  }
 ],
 "metadata": {
  "kernelspec": {
   "display_name": "Python 3",
   "language": "python",
   "name": "python3"
  },
  "language_info": {
   "codemirror_mode": {
    "name": "ipython",
    "version": 3
   },
   "file_extension": ".py",
   "mimetype": "text/x-python",
   "name": "python",
   "nbconvert_exporter": "python",
   "pygments_lexer": "ipython3",
   "version": "3.7.6"
  }
 },
 "nbformat": 4,
 "nbformat_minor": 4
}
