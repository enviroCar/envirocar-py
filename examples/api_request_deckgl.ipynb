{
 "cells": [
  {
   "cell_type": "markdown",
   "metadata": {},
   "source": [
    "# Package loading and basic configurations"
   ]
  },
  {
   "cell_type": "code",
   "execution_count": 8,
   "metadata": {},
   "outputs": [],
   "source": [
    "%reload_ext autoreload\n",
    "%autoreload 2\n",
    "\n",
    "# load dependencies'\n",
    "import pandas as pd\n",
    "import geopandas as gpd\n",
    "\n",
    "\n",
    "from envirocar import TrackAPI, DownloadClient, BboxSelector, ECConfig\n",
    "\n",
    "# create an initial but optional config and an api client\n",
    "config = ECConfig()\n",
    "track_api = TrackAPI(api_client=DownloadClient(config=config))"
   ]
  },
  {
   "cell_type": "markdown",
   "metadata": {},
   "source": [
    "# Querying enviroCar Tracks"
   ]
  },
  {
   "cell_type": "markdown",
   "metadata": {},
   "source": [
    "The following cell queries tracks from the enviroCar API. It defines a bbox for the area of Münster (Germany) and requests 50 tracks. The result is a GeoDataFrame, which is a geo-extended Pandas dataframe from the GeoPandas library. It contains all information of the track in a flat dataframe format including a specific geometry column. "
   ]
  },
  {
   "cell_type": "code",
   "execution_count": 2,
   "metadata": {},
   "outputs": [
    {
     "data": {
      "text/html": [
       "<div>\n",
       "<style scoped>\n",
       "    .dataframe tbody tr th:only-of-type {\n",
       "        vertical-align: middle;\n",
       "    }\n",
       "\n",
       "    .dataframe tbody tr th {\n",
       "        vertical-align: top;\n",
       "    }\n",
       "\n",
       "    .dataframe thead th {\n",
       "        text-align: right;\n",
       "    }\n",
       "</style>\n",
       "<table border=\"1\" class=\"dataframe\">\n",
       "  <thead>\n",
       "    <tr style=\"text-align: right;\">\n",
       "      <th></th>\n",
       "      <th>id</th>\n",
       "      <th>time</th>\n",
       "      <th>geometry</th>\n",
       "      <th>GPS PDOP.value</th>\n",
       "      <th>GPS PDOP.unit</th>\n",
       "      <th>Speed.value</th>\n",
       "      <th>Speed.unit</th>\n",
       "      <th>GPS Altitude.value</th>\n",
       "      <th>GPS Altitude.unit</th>\n",
       "      <th>GPS Bearing.value</th>\n",
       "      <th>...</th>\n",
       "      <th>Consumption.value</th>\n",
       "      <th>Consumption.unit</th>\n",
       "      <th>track.appVersion</th>\n",
       "      <th>track.touVersion</th>\n",
       "      <th>O2 Lambda Voltage ER.value</th>\n",
       "      <th>O2 Lambda Voltage ER.unit</th>\n",
       "      <th>MAF.value</th>\n",
       "      <th>MAF.unit</th>\n",
       "      <th>O2 Lambda Voltage.value</th>\n",
       "      <th>O2 Lambda Voltage.unit</th>\n",
       "    </tr>\n",
       "  </thead>\n",
       "  <tbody>\n",
       "    <tr>\n",
       "      <th>0</th>\n",
       "      <td>5e8b930965b80c5d6b4d7cd1</td>\n",
       "      <td>2020-03-07T12:33:15</td>\n",
       "      <td>POINT (7.64069 51.95733)</td>\n",
       "      <td>1.090631</td>\n",
       "      <td>precision</td>\n",
       "      <td>28.999999</td>\n",
       "      <td>km/h</td>\n",
       "      <td>110.381939</td>\n",
       "      <td>m</td>\n",
       "      <td>124.858622</td>\n",
       "      <td>...</td>\n",
       "      <td>NaN</td>\n",
       "      <td>NaN</td>\n",
       "      <td>NaN</td>\n",
       "      <td>NaN</td>\n",
       "      <td>NaN</td>\n",
       "      <td>NaN</td>\n",
       "      <td>NaN</td>\n",
       "      <td>NaN</td>\n",
       "      <td>NaN</td>\n",
       "      <td>NaN</td>\n",
       "    </tr>\n",
       "    <tr>\n",
       "      <th>1</th>\n",
       "      <td>5e8b930965b80c5d6b4d7cd3</td>\n",
       "      <td>2020-03-07T12:33:20</td>\n",
       "      <td>POINT (7.64118 51.95712)</td>\n",
       "      <td>1.000000</td>\n",
       "      <td>precision</td>\n",
       "      <td>28.000000</td>\n",
       "      <td>km/h</td>\n",
       "      <td>108.260375</td>\n",
       "      <td>m</td>\n",
       "      <td>125.020801</td>\n",
       "      <td>...</td>\n",
       "      <td>NaN</td>\n",
       "      <td>NaN</td>\n",
       "      <td>NaN</td>\n",
       "      <td>NaN</td>\n",
       "      <td>NaN</td>\n",
       "      <td>NaN</td>\n",
       "      <td>NaN</td>\n",
       "      <td>NaN</td>\n",
       "      <td>NaN</td>\n",
       "      <td>NaN</td>\n",
       "    </tr>\n",
       "    <tr>\n",
       "      <th>2</th>\n",
       "      <td>5e8b930965b80c5d6b4d7cd4</td>\n",
       "      <td>2020-03-07T12:33:26</td>\n",
       "      <td>POINT (7.64162 51.95690)</td>\n",
       "      <td>1.257198</td>\n",
       "      <td>precision</td>\n",
       "      <td>28.000001</td>\n",
       "      <td>km/h</td>\n",
       "      <td>105.826028</td>\n",
       "      <td>m</td>\n",
       "      <td>121.203960</td>\n",
       "      <td>...</td>\n",
       "      <td>NaN</td>\n",
       "      <td>NaN</td>\n",
       "      <td>NaN</td>\n",
       "      <td>NaN</td>\n",
       "      <td>NaN</td>\n",
       "      <td>NaN</td>\n",
       "      <td>NaN</td>\n",
       "      <td>NaN</td>\n",
       "      <td>NaN</td>\n",
       "      <td>NaN</td>\n",
       "    </tr>\n",
       "    <tr>\n",
       "      <th>3</th>\n",
       "      <td>5e8b930965b80c5d6b4d7cd5</td>\n",
       "      <td>2020-03-07T12:33:31</td>\n",
       "      <td>POINT (7.64210 51.95672)</td>\n",
       "      <td>1.000000</td>\n",
       "      <td>precision</td>\n",
       "      <td>30.000000</td>\n",
       "      <td>km/h</td>\n",
       "      <td>104.395998</td>\n",
       "      <td>m</td>\n",
       "      <td>123.412759</td>\n",
       "      <td>...</td>\n",
       "      <td>NaN</td>\n",
       "      <td>NaN</td>\n",
       "      <td>NaN</td>\n",
       "      <td>NaN</td>\n",
       "      <td>NaN</td>\n",
       "      <td>NaN</td>\n",
       "      <td>NaN</td>\n",
       "      <td>NaN</td>\n",
       "      <td>NaN</td>\n",
       "      <td>NaN</td>\n",
       "    </tr>\n",
       "    <tr>\n",
       "      <th>4</th>\n",
       "      <td>5e8b930965b80c5d6b4d7cd6</td>\n",
       "      <td>2020-03-07T12:33:36</td>\n",
       "      <td>POINT (7.64264 51.95650)</td>\n",
       "      <td>1.026727</td>\n",
       "      <td>precision</td>\n",
       "      <td>31.409419</td>\n",
       "      <td>km/h</td>\n",
       "      <td>101.516865</td>\n",
       "      <td>m</td>\n",
       "      <td>122.170479</td>\n",
       "      <td>...</td>\n",
       "      <td>NaN</td>\n",
       "      <td>NaN</td>\n",
       "      <td>NaN</td>\n",
       "      <td>NaN</td>\n",
       "      <td>NaN</td>\n",
       "      <td>NaN</td>\n",
       "      <td>NaN</td>\n",
       "      <td>NaN</td>\n",
       "      <td>NaN</td>\n",
       "      <td>NaN</td>\n",
       "    </tr>\n",
       "    <tr>\n",
       "      <th>...</th>\n",
       "      <td>...</td>\n",
       "      <td>...</td>\n",
       "      <td>...</td>\n",
       "      <td>...</td>\n",
       "      <td>...</td>\n",
       "      <td>...</td>\n",
       "      <td>...</td>\n",
       "      <td>...</td>\n",
       "      <td>...</td>\n",
       "      <td>...</td>\n",
       "      <td>...</td>\n",
       "      <td>...</td>\n",
       "      <td>...</td>\n",
       "      <td>...</td>\n",
       "      <td>...</td>\n",
       "      <td>...</td>\n",
       "      <td>...</td>\n",
       "      <td>...</td>\n",
       "      <td>...</td>\n",
       "      <td>...</td>\n",
       "      <td>...</td>\n",
       "    </tr>\n",
       "    <tr>\n",
       "      <th>283</th>\n",
       "      <td>5dc986e844ea856b702e3e0b</td>\n",
       "      <td>2019-10-28T16:34:55</td>\n",
       "      <td>POINT (7.59523 51.96505)</td>\n",
       "      <td>1.700000</td>\n",
       "      <td>precision</td>\n",
       "      <td>47.999999</td>\n",
       "      <td>km/h</td>\n",
       "      <td>109.652212</td>\n",
       "      <td>m</td>\n",
       "      <td>276.419653</td>\n",
       "      <td>...</td>\n",
       "      <td>3.122268</td>\n",
       "      <td>l/h</td>\n",
       "      <td>NaN</td>\n",
       "      <td>NaN</td>\n",
       "      <td>NaN</td>\n",
       "      <td>NaN</td>\n",
       "      <td>NaN</td>\n",
       "      <td>NaN</td>\n",
       "      <td>NaN</td>\n",
       "      <td>NaN</td>\n",
       "    </tr>\n",
       "    <tr>\n",
       "      <th>284</th>\n",
       "      <td>5dc986e844ea856b702e3e0c</td>\n",
       "      <td>2019-10-28T16:35:00</td>\n",
       "      <td>POINT (7.59425 51.96512)</td>\n",
       "      <td>1.497088</td>\n",
       "      <td>precision</td>\n",
       "      <td>48.297297</td>\n",
       "      <td>km/h</td>\n",
       "      <td>110.122771</td>\n",
       "      <td>m</td>\n",
       "      <td>276.271049</td>\n",
       "      <td>...</td>\n",
       "      <td>2.853618</td>\n",
       "      <td>l/h</td>\n",
       "      <td>NaN</td>\n",
       "      <td>NaN</td>\n",
       "      <td>NaN</td>\n",
       "      <td>NaN</td>\n",
       "      <td>NaN</td>\n",
       "      <td>NaN</td>\n",
       "      <td>NaN</td>\n",
       "      <td>NaN</td>\n",
       "    </tr>\n",
       "    <tr>\n",
       "      <th>285</th>\n",
       "      <td>5dc986e844ea856b702e3e0d</td>\n",
       "      <td>2019-10-28T16:35:05</td>\n",
       "      <td>POINT (7.59327 51.96518)</td>\n",
       "      <td>1.688911</td>\n",
       "      <td>precision</td>\n",
       "      <td>49.000001</td>\n",
       "      <td>km/h</td>\n",
       "      <td>110.573987</td>\n",
       "      <td>m</td>\n",
       "      <td>275.808021</td>\n",
       "      <td>...</td>\n",
       "      <td>4.657916</td>\n",
       "      <td>l/h</td>\n",
       "      <td>NaN</td>\n",
       "      <td>NaN</td>\n",
       "      <td>NaN</td>\n",
       "      <td>NaN</td>\n",
       "      <td>NaN</td>\n",
       "      <td>NaN</td>\n",
       "      <td>NaN</td>\n",
       "      <td>NaN</td>\n",
       "    </tr>\n",
       "    <tr>\n",
       "      <th>286</th>\n",
       "      <td>5dc986e844ea856b702e3e0e</td>\n",
       "      <td>2019-10-28T16:35:10</td>\n",
       "      <td>POINT (7.59225 51.96525)</td>\n",
       "      <td>1.300000</td>\n",
       "      <td>precision</td>\n",
       "      <td>51.000000</td>\n",
       "      <td>km/h</td>\n",
       "      <td>111.140661</td>\n",
       "      <td>m</td>\n",
       "      <td>275.411387</td>\n",
       "      <td>...</td>\n",
       "      <td>3.445271</td>\n",
       "      <td>l/h</td>\n",
       "      <td>NaN</td>\n",
       "      <td>NaN</td>\n",
       "      <td>NaN</td>\n",
       "      <td>NaN</td>\n",
       "      <td>NaN</td>\n",
       "      <td>NaN</td>\n",
       "      <td>NaN</td>\n",
       "      <td>NaN</td>\n",
       "    </tr>\n",
       "    <tr>\n",
       "      <th>287</th>\n",
       "      <td>5dc986e844ea856b702e3e0f</td>\n",
       "      <td>2019-10-28T16:35:15</td>\n",
       "      <td>POINT (7.59123 51.96531)</td>\n",
       "      <td>1.423253</td>\n",
       "      <td>precision</td>\n",
       "      <td>50.000001</td>\n",
       "      <td>km/h</td>\n",
       "      <td>111.891658</td>\n",
       "      <td>m</td>\n",
       "      <td>276.124438</td>\n",
       "      <td>...</td>\n",
       "      <td>3.248333</td>\n",
       "      <td>l/h</td>\n",
       "      <td>NaN</td>\n",
       "      <td>NaN</td>\n",
       "      <td>NaN</td>\n",
       "      <td>NaN</td>\n",
       "      <td>NaN</td>\n",
       "      <td>NaN</td>\n",
       "      <td>NaN</td>\n",
       "      <td>NaN</td>\n",
       "    </tr>\n",
       "  </tbody>\n",
       "</table>\n",
       "<p>9944 rows × 54 columns</p>\n",
       "</div>"
      ],
      "text/plain": [
       "                           id                 time                  geometry  \\\n",
       "0    5e8b930965b80c5d6b4d7cd1  2020-03-07T12:33:15  POINT (7.64069 51.95733)   \n",
       "1    5e8b930965b80c5d6b4d7cd3  2020-03-07T12:33:20  POINT (7.64118 51.95712)   \n",
       "2    5e8b930965b80c5d6b4d7cd4  2020-03-07T12:33:26  POINT (7.64162 51.95690)   \n",
       "3    5e8b930965b80c5d6b4d7cd5  2020-03-07T12:33:31  POINT (7.64210 51.95672)   \n",
       "4    5e8b930965b80c5d6b4d7cd6  2020-03-07T12:33:36  POINT (7.64264 51.95650)   \n",
       "..                        ...                  ...                       ...   \n",
       "283  5dc986e844ea856b702e3e0b  2019-10-28T16:34:55  POINT (7.59523 51.96505)   \n",
       "284  5dc986e844ea856b702e3e0c  2019-10-28T16:35:00  POINT (7.59425 51.96512)   \n",
       "285  5dc986e844ea856b702e3e0d  2019-10-28T16:35:05  POINT (7.59327 51.96518)   \n",
       "286  5dc986e844ea856b702e3e0e  2019-10-28T16:35:10  POINT (7.59225 51.96525)   \n",
       "287  5dc986e844ea856b702e3e0f  2019-10-28T16:35:15  POINT (7.59123 51.96531)   \n",
       "\n",
       "     GPS PDOP.value GPS PDOP.unit  Speed.value Speed.unit  GPS Altitude.value  \\\n",
       "0          1.090631     precision    28.999999       km/h          110.381939   \n",
       "1          1.000000     precision    28.000000       km/h          108.260375   \n",
       "2          1.257198     precision    28.000001       km/h          105.826028   \n",
       "3          1.000000     precision    30.000000       km/h          104.395998   \n",
       "4          1.026727     precision    31.409419       km/h          101.516865   \n",
       "..              ...           ...          ...        ...                 ...   \n",
       "283        1.700000     precision    47.999999       km/h          109.652212   \n",
       "284        1.497088     precision    48.297297       km/h          110.122771   \n",
       "285        1.688911     precision    49.000001       km/h          110.573987   \n",
       "286        1.300000     precision    51.000000       km/h          111.140661   \n",
       "287        1.423253     precision    50.000001       km/h          111.891658   \n",
       "\n",
       "    GPS Altitude.unit  GPS Bearing.value  ... Consumption.value  \\\n",
       "0                   m         124.858622  ...               NaN   \n",
       "1                   m         125.020801  ...               NaN   \n",
       "2                   m         121.203960  ...               NaN   \n",
       "3                   m         123.412759  ...               NaN   \n",
       "4                   m         122.170479  ...               NaN   \n",
       "..                ...                ...  ...               ...   \n",
       "283                 m         276.419653  ...          3.122268   \n",
       "284                 m         276.271049  ...          2.853618   \n",
       "285                 m         275.808021  ...          4.657916   \n",
       "286                 m         275.411387  ...          3.445271   \n",
       "287                 m         276.124438  ...          3.248333   \n",
       "\n",
       "     Consumption.unit track.appVersion  track.touVersion  \\\n",
       "0                 NaN              NaN               NaN   \n",
       "1                 NaN              NaN               NaN   \n",
       "2                 NaN              NaN               NaN   \n",
       "3                 NaN              NaN               NaN   \n",
       "4                 NaN              NaN               NaN   \n",
       "..                ...              ...               ...   \n",
       "283               l/h              NaN               NaN   \n",
       "284               l/h              NaN               NaN   \n",
       "285               l/h              NaN               NaN   \n",
       "286               l/h              NaN               NaN   \n",
       "287               l/h              NaN               NaN   \n",
       "\n",
       "    O2 Lambda Voltage ER.value  O2 Lambda Voltage ER.unit MAF.value  MAF.unit  \\\n",
       "0                          NaN                        NaN       NaN       NaN   \n",
       "1                          NaN                        NaN       NaN       NaN   \n",
       "2                          NaN                        NaN       NaN       NaN   \n",
       "3                          NaN                        NaN       NaN       NaN   \n",
       "4                          NaN                        NaN       NaN       NaN   \n",
       "..                         ...                        ...       ...       ...   \n",
       "283                        NaN                        NaN       NaN       NaN   \n",
       "284                        NaN                        NaN       NaN       NaN   \n",
       "285                        NaN                        NaN       NaN       NaN   \n",
       "286                        NaN                        NaN       NaN       NaN   \n",
       "287                        NaN                        NaN       NaN       NaN   \n",
       "\n",
       "    O2 Lambda Voltage.value  O2 Lambda Voltage.unit  \n",
       "0                       NaN                     NaN  \n",
       "1                       NaN                     NaN  \n",
       "2                       NaN                     NaN  \n",
       "3                       NaN                     NaN  \n",
       "4                       NaN                     NaN  \n",
       "..                      ...                     ...  \n",
       "283                     NaN                     NaN  \n",
       "284                     NaN                     NaN  \n",
       "285                     NaN                     NaN  \n",
       "286                     NaN                     NaN  \n",
       "287                     NaN                     NaN  \n",
       "\n",
       "[9944 rows x 54 columns]"
      ]
     },
     "execution_count": 2,
     "metadata": {},
     "output_type": "execute_result"
    }
   ],
   "source": [
    "bbox = BboxSelector([\n",
    "    7.601165771484375, # min_x\n",
    "    51.94807412325402, # min_y\n",
    "    7.648200988769531, # max_x\n",
    "    51.97261482608728  # max_y\n",
    "])\n",
    "\n",
    "# issue a query\n",
    "track_df = track_api.get_tracks(bbox=bbox, num_results=50) # requesting 50 tracks inside the bbox\n",
    "track_df"
   ]
  },
  {
   "cell_type": "code",
   "execution_count": 3,
   "metadata": {},
   "outputs": [
    {
     "data": {
      "text/plain": [
       "<matplotlib.axes._subplots.AxesSubplot at 0x7f4e61090b00>"
      ]
     },
     "execution_count": 3,
     "metadata": {},
     "output_type": "execute_result"
    },
    {
     "data": {
      "image/png": "[encoded data removed]",
      "text/plain": [
       "<Figure size 576x720 with 1 Axes>"
      ]
     },
     "metadata": {
      "needs_background": "light"
     },
     "output_type": "display_data"
    }
   ],
   "source": [
    "track_df.plot(figsize=(8, 10))"
   ]
  },
  {
   "cell_type": "markdown",
   "metadata": {},
   "source": [
    "# Inspecting a single Track"
   ]
  },
  {
   "cell_type": "code",
   "execution_count": 4,
   "metadata": {},
   "outputs": [
    {
     "data": {
      "text/plain": [
       "<matplotlib.axes._subplots.AxesSubplot at 0x7f4e60d3b160>"
      ]
     },
     "execution_count": 4,
     "metadata": {},
     "output_type": "execute_result"
    },
    {
     "data": {
      "image/png": "[encoded data removed]",
      "text/plain": [
       "<Figure size 432x288 with 1 Axes>"
      ]
     },
     "metadata": {
      "needs_background": "light"
     },
     "output_type": "display_data"
    }
   ],
   "source": [
    "some_track_id = track_df['track.id'].unique()[5]\n",
    "some_track = track_df[track_df['track.id'] == some_track_id]\n",
    "some_track.plot()"
   ]
  },
  {
   "cell_type": "code",
   "execution_count": 13,
   "metadata": {},
   "outputs": [
    {
     "data": {
      "text/plain": [
       "<matplotlib.axes._subplots.AxesSubplot at 0x7f4e48fb4b70>"
      ]
     },
     "execution_count": 13,
     "metadata": {},
     "output_type": "execute_result"
    },
    {
     "data": {
      "image/png": "[encoded data removed]",
      "text/plain": [
       "<Figure size 432x288 with 1 Axes>"
      ]
     },
     "metadata": {
      "needs_background": "light"
     },
     "output_type": "display_data"
    }
   ],
   "source": [
    "ax = some_track['Speed.value'].plot()\n",
    "ax.set_title(\"Speed\")\n",
    "ax.set_ylabel(some_track['Speed.unit'][0])\n",
    "ax"
   ]
  },
  {
   "cell_type": "markdown",
   "metadata": {},
   "source": [
    "## Interactive Map\n",
    "The following map-based visualization makes use of folium. It allows to visualizate geospatial data based on an interactive leaflet map. Since the data in the GeoDataframe is modelled as a set of Point instead of a LineString, we have to manually create a polyline"
   ]
  },
  {
   "cell_type": "code",
   "execution_count": 7,
   "metadata": {},
   "outputs": [
    {
     "ename": "NameError",
     "evalue": "name 'some_track' is not defined",
     "output_type": "error",
     "traceback": [
      "\u001b[1;31m---------------------------------------------------------------------------\u001b[0m",
      "\u001b[1;31mNameError\u001b[0m                                 Traceback (most recent call last)",
      "\u001b[1;32m<ipython-input-7-5777f8569bea>\u001b[0m in \u001b[0;36m<module>\u001b[1;34m\u001b[0m\n\u001b[0;32m      1\u001b[0m \u001b[1;32mimport\u001b[0m \u001b[0mfolium\u001b[0m\u001b[1;33m\u001b[0m\u001b[1;33m\u001b[0m\u001b[0m\n\u001b[0;32m      2\u001b[0m \u001b[1;33m\u001b[0m\u001b[0m\n\u001b[1;32m----> 3\u001b[1;33m \u001b[0mlats\u001b[0m \u001b[1;33m=\u001b[0m \u001b[0mlist\u001b[0m\u001b[1;33m(\u001b[0m\u001b[0msome_track\u001b[0m\u001b[1;33m[\u001b[0m\u001b[1;34m'geometry'\u001b[0m\u001b[1;33m]\u001b[0m\u001b[1;33m.\u001b[0m\u001b[0mapply\u001b[0m\u001b[1;33m(\u001b[0m\u001b[1;32mlambda\u001b[0m \u001b[0mcoord\u001b[0m\u001b[1;33m:\u001b[0m \u001b[0mcoord\u001b[0m\u001b[1;33m.\u001b[0m\u001b[0my\u001b[0m\u001b[1;33m)\u001b[0m\u001b[1;33m)\u001b[0m\u001b[1;33m\u001b[0m\u001b[1;33m\u001b[0m\u001b[0m\n\u001b[0m\u001b[0;32m      4\u001b[0m \u001b[0mlngs\u001b[0m \u001b[1;33m=\u001b[0m \u001b[0mlist\u001b[0m\u001b[1;33m(\u001b[0m\u001b[0msome_track\u001b[0m\u001b[1;33m[\u001b[0m\u001b[1;34m'geometry'\u001b[0m\u001b[1;33m]\u001b[0m\u001b[1;33m.\u001b[0m\u001b[0mapply\u001b[0m\u001b[1;33m(\u001b[0m\u001b[1;32mlambda\u001b[0m \u001b[0mcoord\u001b[0m\u001b[1;33m:\u001b[0m \u001b[0mcoord\u001b[0m\u001b[1;33m.\u001b[0m\u001b[0mx\u001b[0m\u001b[1;33m)\u001b[0m\u001b[1;33m)\u001b[0m\u001b[1;33m\u001b[0m\u001b[1;33m\u001b[0m\u001b[0m\n\u001b[0;32m      5\u001b[0m \u001b[1;33m\u001b[0m\u001b[0m\n",
      "\u001b[1;31mNameError\u001b[0m: name 'some_track' is not defined"
     ]
    }
   ],
   "source": [
    "import folium\n",
    "\n",
    "lats = list(some_track['geometry'].apply(lambda coord: coord.y))\n",
    "lngs = list(some_track['geometry'].apply(lambda coord: coord.x))\n",
    "\n",
    "avg_lat = sum(lats) / len(lats)\n",
    "avg_lngs = sum(lngs) / len(lngs)\n",
    "\n",
    "m = folium.Map(location=[avg_lat, avg_lngs], zoom_start=13)\n",
    "folium.PolyLine([coords for coords in zip(lats, lngs)], color='blue').add_to(m)\n",
    "m"
   ]
  },
  {
   "cell_type": "markdown",
   "metadata": {},
   "source": [
    "# Example: Visualization with pydeck (deck.gl)"
   ]
  },
  {
   "cell_type": "markdown",
   "metadata": {},
   "source": [
    "The pydeck library makes use of the basemap tiles from Mapbox. In case you want to visualize the map with basemap tiles, you need to register with MapBox, and configure a specific access token. The service is free until a certain level of traffic is esceeded.\n",
    "\n",
    "You can either configure it via your terminal (i.e. `export MAPBOX_API_KEY=<mapbox-key-here>`), which pydeck will automatically read, or you can pass it as a variable to the generation of pydeck (i.e. `pdk.Deck(mapbox_key=<mapbox-key-here>, ...)`."
   ]
  },
  {
   "cell_type": "code",
   "execution_count": 7,
   "metadata": {},
   "outputs": [
    {
     "data": {
      "text/html": [
       "\n",
       "        <iframe\n",
       "            width=\"900\"\n",
       "            height=\"500\"\n",
       "            src=\"./tracks_muenster.html\"\n",
       "            frameborder=\"0\"\n",
       "            allowfullscreen\n",
       "        ></iframe>\n",
       "        "
      ],
      "text/plain": [
       "<IPython.lib.display.IFrame at 0x7f4e508e19b0>"
      ]
     },
     "metadata": {},
     "output_type": "display_data"
    },
    {
     "data": {
      "text/plain": [
       "'/home/hafenkran/dev/envirocar/envirocar-py/examples/tracks_muenster.html'"
      ]
     },
     "execution_count": 7,
     "metadata": {},
     "output_type": "execute_result"
    }
   ],
   "source": [
    "import pydeck as pdk\n",
    "\n",
    "# for pydeck the attributes have to be flat\n",
    "track_df['lat'] = track_df['geometry'].apply(lambda coord: coord.y)\n",
    "track_df['lng'] = track_df['geometry'].apply(lambda coord: coord.x)\n",
    "vis_df = pd.DataFrame(track_df)\n",
    "vis_df['speed'] = vis_df['Speed.value']\n",
    "\n",
    "# omit unit columns\n",
    "vis_df_cols = [col for col in vis_df.columns if col.lower()[len(col)-4:len(col)] != 'unit']\n",
    "vis_df = vis_df[vis_df_cols]\n",
    "\n",
    "layer = pdk.Layer(\n",
    "    'ScatterplotLayer',\n",
    "    data=vis_df,\n",
    "    get_position='[lng, lat]',\n",
    "    auto_highlight=True,\n",
    "    get_radius=10,          # Radius is given in meters\n",
    "    get_fill_color='[speed < 20 ? 0 : (speed - 20)*8.5, speed < 50 ? 255 : 255 - (speed-50)*8.5, 0, 140]',  # Set an RGBA value for fill\n",
    "    pickable=True\n",
    ")\n",
    "\n",
    "# Set the viewport location\n",
    "view_state = pdk.ViewState(\n",
    "    longitude=7.5963592529296875,\n",
    "    latitude=51.96246168188569,\n",
    "    zoom=10,\n",
    "    min_zoom=5,\n",
    "    max_zoom=15,\n",
    "    pitch=40.5,\n",
    "    bearing=-27.36)\n",
    "\n",
    "r = pdk.Deck(\n",
    "    width=200, \n",
    "    layers=[layer], \n",
    "    initial_view_state=view_state #, mapbox_key=<mapbox-key-here>\n",
    ")\n",
    "r.to_html('tracks_muenster.html', iframe_width=900)"
   ]
  }
 ],
 "metadata": {
  "kernelspec": {
   "display_name": "Python 3",
   "language": "python",
   "name": "python3"
  },
  "language_info": {
   "codemirror_mode": {
    "name": "ipython",
    "version": 3
   },
   "file_extension": ".py",
   "mimetype": "text/x-python",
   "name": "python",
   "nbconvert_exporter": "python",
   "pygments_lexer": "ipython3",
   "version": "3.7.6"
  }
 },
 "nbformat": 4,
 "nbformat_minor": 4
}
