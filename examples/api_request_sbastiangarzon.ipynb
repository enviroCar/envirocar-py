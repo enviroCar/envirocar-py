{
 "cells": [
  {
   "cell_type": "markdown",
   "metadata": {},
   "source": [
    "# Package loading and basic configurations"
   ]
  },
  {
   "cell_type": "code",
   "execution_count": 8,
   "metadata": {},
   "outputs": [
    {
     "name": "stdout",
     "output_type": "stream",
     "text": [
      "The autoreload extension is already loaded. To reload it, use:\n",
      "  %reload_ext autoreload\n"
     ]
    }
   ],
   "source": [
    "%load_ext autoreload\n",
    "%autoreload 2\n",
    "\n",
    "# Juan Sebastian Garzon Alvarado \n",
    "# Westfälische Wilhelms-Universität Münster\n",
    "# Floating car data analytics & visualization for traffic management and safety\n",
    "# 2020 SS\n",
    "\n",
    "\n",
    "# load dependencies'\n",
    "import pandas as pd\n",
    "import geopandas as gpd\n",
    "import folium\n",
    "import branca\n",
    "from bokeh.io import output_notebook, show\n",
    "from bokeh.plotting import figure\n",
    "from bokeh.embed import file_html\n",
    "from bokeh.resources import CDN\n",
    "\n",
    "from envirocar import TrackAPI, DownloadClient, BboxSelector, ECConfig\n",
    "\n",
    "# create an initial but optional config and an api client\n",
    "config = ECConfig()\n",
    "track_api = TrackAPI(api_client=DownloadClient(config=config))"
   ]
  },
  {
   "cell_type": "markdown",
   "metadata": {},
   "source": [
    "# Querying enviroCar Tracks"
   ]
  },
  {
   "cell_type": "markdown",
   "metadata": {},
   "source": [
    "The following cell queries tracks from the enviroCar API. It defines a bbox for the area of Münster (Germany) and requests 50 tracks. The result is a GeoDataFrame, which is a geo-extended Pandas dataframe from the GeoPandas library. It contains all information of the track in a flat dataframe format including a specific geometry column. "
   ]
  },
  {
   "cell_type": "code",
   "execution_count": 9,
   "metadata": {},
   "outputs": [
    {
     "data": {
      "text/html": [
       "<div>\n",
       "<style scoped>\n",
       "    .dataframe tbody tr th:only-of-type {\n",
       "        vertical-align: middle;\n",
       "    }\n",
       "\n",
       "    .dataframe tbody tr th {\n",
       "        vertical-align: top;\n",
       "    }\n",
       "\n",
       "    .dataframe thead th {\n",
       "        text-align: right;\n",
       "    }\n",
       "</style>\n",
       "<table border=\"1\" class=\"dataframe\">\n",
       "  <thead>\n",
       "    <tr style=\"text-align: right;\">\n",
       "      <th></th>\n",
       "      <th>id</th>\n",
       "      <th>time</th>\n",
       "      <th>geometry</th>\n",
       "      <th>GPS PDOP.value</th>\n",
       "      <th>GPS PDOP.unit</th>\n",
       "      <th>Speed.value</th>\n",
       "      <th>Speed.unit</th>\n",
       "      <th>GPS Altitude.value</th>\n",
       "      <th>GPS Altitude.unit</th>\n",
       "      <th>GPS Bearing.value</th>\n",
       "      <th>...</th>\n",
       "      <th>Consumption.value</th>\n",
       "      <th>Consumption.unit</th>\n",
       "      <th>track.appVersion</th>\n",
       "      <th>track.touVersion</th>\n",
       "      <th>O2 Lambda Voltage ER.value</th>\n",
       "      <th>O2 Lambda Voltage ER.unit</th>\n",
       "      <th>MAF.value</th>\n",
       "      <th>MAF.unit</th>\n",
       "      <th>O2 Lambda Voltage.value</th>\n",
       "      <th>O2 Lambda Voltage.unit</th>\n",
       "    </tr>\n",
       "  </thead>\n",
       "  <tbody>\n",
       "    <tr>\n",
       "      <th>0</th>\n",
       "      <td>5e8b930965b80c5d6b4d7cd1</td>\n",
       "      <td>2020-03-07T12:33:15</td>\n",
       "      <td>POINT (7.64069 51.95733)</td>\n",
       "      <td>1.090631</td>\n",
       "      <td>precision</td>\n",
       "      <td>28.999999</td>\n",
       "      <td>km/h</td>\n",
       "      <td>110.381939</td>\n",
       "      <td>m</td>\n",
       "      <td>124.858622</td>\n",
       "      <td>...</td>\n",
       "      <td>NaN</td>\n",
       "      <td>NaN</td>\n",
       "      <td>NaN</td>\n",
       "      <td>NaN</td>\n",
       "      <td>NaN</td>\n",
       "      <td>NaN</td>\n",
       "      <td>NaN</td>\n",
       "      <td>NaN</td>\n",
       "      <td>NaN</td>\n",
       "      <td>NaN</td>\n",
       "    </tr>\n",
       "    <tr>\n",
       "      <th>1</th>\n",
       "      <td>5e8b930965b80c5d6b4d7cd3</td>\n",
       "      <td>2020-03-07T12:33:20</td>\n",
       "      <td>POINT (7.64118 51.95712)</td>\n",
       "      <td>1.000000</td>\n",
       "      <td>precision</td>\n",
       "      <td>28.000000</td>\n",
       "      <td>km/h</td>\n",
       "      <td>108.260375</td>\n",
       "      <td>m</td>\n",
       "      <td>125.020801</td>\n",
       "      <td>...</td>\n",
       "      <td>NaN</td>\n",
       "      <td>NaN</td>\n",
       "      <td>NaN</td>\n",
       "      <td>NaN</td>\n",
       "      <td>NaN</td>\n",
       "      <td>NaN</td>\n",
       "      <td>NaN</td>\n",
       "      <td>NaN</td>\n",
       "      <td>NaN</td>\n",
       "      <td>NaN</td>\n",
       "    </tr>\n",
       "    <tr>\n",
       "      <th>2</th>\n",
       "      <td>5e8b930965b80c5d6b4d7cd4</td>\n",
       "      <td>2020-03-07T12:33:26</td>\n",
       "      <td>POINT (7.64162 51.95690)</td>\n",
       "      <td>1.257198</td>\n",
       "      <td>precision</td>\n",
       "      <td>28.000001</td>\n",
       "      <td>km/h</td>\n",
       "      <td>105.826028</td>\n",
       "      <td>m</td>\n",
       "      <td>121.203960</td>\n",
       "      <td>...</td>\n",
       "      <td>NaN</td>\n",
       "      <td>NaN</td>\n",
       "      <td>NaN</td>\n",
       "      <td>NaN</td>\n",
       "      <td>NaN</td>\n",
       "      <td>NaN</td>\n",
       "      <td>NaN</td>\n",
       "      <td>NaN</td>\n",
       "      <td>NaN</td>\n",
       "      <td>NaN</td>\n",
       "    </tr>\n",
       "    <tr>\n",
       "      <th>3</th>\n",
       "      <td>5e8b930965b80c5d6b4d7cd5</td>\n",
       "      <td>2020-03-07T12:33:31</td>\n",
       "      <td>POINT (7.64210 51.95672)</td>\n",
       "      <td>1.000000</td>\n",
       "      <td>precision</td>\n",
       "      <td>30.000000</td>\n",
       "      <td>km/h</td>\n",
       "      <td>104.395998</td>\n",
       "      <td>m</td>\n",
       "      <td>123.412759</td>\n",
       "      <td>...</td>\n",
       "      <td>NaN</td>\n",
       "      <td>NaN</td>\n",
       "      <td>NaN</td>\n",
       "      <td>NaN</td>\n",
       "      <td>NaN</td>\n",
       "      <td>NaN</td>\n",
       "      <td>NaN</td>\n",
       "      <td>NaN</td>\n",
       "      <td>NaN</td>\n",
       "      <td>NaN</td>\n",
       "    </tr>\n",
       "    <tr>\n",
       "      <th>4</th>\n",
       "      <td>5e8b930965b80c5d6b4d7cd6</td>\n",
       "      <td>2020-03-07T12:33:36</td>\n",
       "      <td>POINT (7.64264 51.95650)</td>\n",
       "      <td>1.026727</td>\n",
       "      <td>precision</td>\n",
       "      <td>31.409419</td>\n",
       "      <td>km/h</td>\n",
       "      <td>101.516865</td>\n",
       "      <td>m</td>\n",
       "      <td>122.170479</td>\n",
       "      <td>...</td>\n",
       "      <td>NaN</td>\n",
       "      <td>NaN</td>\n",
       "      <td>NaN</td>\n",
       "      <td>NaN</td>\n",
       "      <td>NaN</td>\n",
       "      <td>NaN</td>\n",
       "      <td>NaN</td>\n",
       "      <td>NaN</td>\n",
       "      <td>NaN</td>\n",
       "      <td>NaN</td>\n",
       "    </tr>\n",
       "  </tbody>\n",
       "</table>\n",
       "<p>5 rows × 54 columns</p>\n",
       "</div>"
      ],
      "text/plain": [
       "                         id                 time                  geometry  \\\n",
       "0  5e8b930965b80c5d6b4d7cd1  2020-03-07T12:33:15  POINT (7.64069 51.95733)   \n",
       "1  5e8b930965b80c5d6b4d7cd3  2020-03-07T12:33:20  POINT (7.64118 51.95712)   \n",
       "2  5e8b930965b80c5d6b4d7cd4  2020-03-07T12:33:26  POINT (7.64162 51.95690)   \n",
       "3  5e8b930965b80c5d6b4d7cd5  2020-03-07T12:33:31  POINT (7.64210 51.95672)   \n",
       "4  5e8b930965b80c5d6b4d7cd6  2020-03-07T12:33:36  POINT (7.64264 51.95650)   \n",
       "\n",
       "   GPS PDOP.value GPS PDOP.unit  Speed.value Speed.unit  GPS Altitude.value  \\\n",
       "0        1.090631     precision    28.999999       km/h          110.381939   \n",
       "1        1.000000     precision    28.000000       km/h          108.260375   \n",
       "2        1.257198     precision    28.000001       km/h          105.826028   \n",
       "3        1.000000     precision    30.000000       km/h          104.395998   \n",
       "4        1.026727     precision    31.409419       km/h          101.516865   \n",
       "\n",
       "  GPS Altitude.unit  GPS Bearing.value  ... Consumption.value  \\\n",
       "0                 m         124.858622  ...               NaN   \n",
       "1                 m         125.020801  ...               NaN   \n",
       "2                 m         121.203960  ...               NaN   \n",
       "3                 m         123.412759  ...               NaN   \n",
       "4                 m         122.170479  ...               NaN   \n",
       "\n",
       "   Consumption.unit track.appVersion  track.touVersion  \\\n",
       "0               NaN              NaN               NaN   \n",
       "1               NaN              NaN               NaN   \n",
       "2               NaN              NaN               NaN   \n",
       "3               NaN              NaN               NaN   \n",
       "4               NaN              NaN               NaN   \n",
       "\n",
       "  O2 Lambda Voltage ER.value  O2 Lambda Voltage ER.unit MAF.value  MAF.unit  \\\n",
       "0                        NaN                        NaN       NaN       NaN   \n",
       "1                        NaN                        NaN       NaN       NaN   \n",
       "2                        NaN                        NaN       NaN       NaN   \n",
       "3                        NaN                        NaN       NaN       NaN   \n",
       "4                        NaN                        NaN       NaN       NaN   \n",
       "\n",
       "  O2 Lambda Voltage.value  O2 Lambda Voltage.unit  \n",
       "0                     NaN                     NaN  \n",
       "1                     NaN                     NaN  \n",
       "2                     NaN                     NaN  \n",
       "3                     NaN                     NaN  \n",
       "4                     NaN                     NaN  \n",
       "\n",
       "[5 rows x 54 columns]"
      ]
     },
     "execution_count": 9,
     "metadata": {},
     "output_type": "execute_result"
    }
   ],
   "source": [
    "bbox = BboxSelector([\n",
    "    7.601165771484375, # min_x\n",
    "    51.94807412325402, # min_y\n",
    "    7.648200988769531, # max_x\n",
    "    51.97261482608728  # max_y\n",
    "])\n",
    "\n",
    "# issue a query\n",
    "track_df = track_api.get_tracks(bbox=bbox, num_results=50) # requesting 50 tracks inside the bbox\n",
    "track_df.head()"
   ]
  },
  {
   "cell_type": "code",
   "execution_count": 10,
   "metadata": {},
   "outputs": [
    {
     "data": {
      "text/plain": [
       "<matplotlib.axes._subplots.AxesSubplot at 0x10cb937d0>"
      ]
     },
     "execution_count": 10,
     "metadata": {},
     "output_type": "execute_result"
    },
    {
     "data": {
      "image/png": "[encoded data removed]",
      "text/plain": [
       "<Figure size 576x720 with 1 Axes>"
      ]
     },
     "metadata": {
      "needs_background": "light"
     },
     "output_type": "display_data"
    }
   ],
   "source": [
    "track_df.plot(figsize=(8, 10))"
   ]
  },
  {
   "cell_type": "markdown",
   "metadata": {},
   "source": [
    "# Inspecting a single Track"
   ]
  },
  {
   "cell_type": "code",
   "execution_count": 11,
   "metadata": {},
   "outputs": [
    {
     "data": {
      "text/plain": [
       "<matplotlib.axes._subplots.AxesSubplot at 0x11a737790>"
      ]
     },
     "execution_count": 11,
     "metadata": {},
     "output_type": "execute_result"
    },
    {
     "data": {
      "image/png": "[encoded data removed]",
      "text/plain": [
       "<Figure size 432x288 with 1 Axes>"
      ]
     },
     "metadata": {
      "needs_background": "light"
     },
     "output_type": "display_data"
    }
   ],
   "source": [
    "some_track_id = track_df['track.id'].unique()[5]\n",
    "some_track = track_df[track_df['track.id'] == some_track_id]\n",
    "some_track.plot()"
   ]
  },
  {
   "cell_type": "markdown",
   "metadata": {},
   "source": [
    "## Interactive Map\n",
    "The following map-based visualization makes use of folium. It allows to visualizate geospatial data based on an interactive leaflet map. Since the data in the GeoDataframe is modelled as a set of Point instead of a LineString, we have to manually create a polyline. Using the popups the user can access to additional information (Speed value vs time)."
   ]
  },
  {
   "cell_type": "code",
   "execution_count": 12,
   "metadata": {},
   "outputs": [
    {
     "data": {
      "text/html": [
       "<div style=\"width:100%;\"><div style=\"position:relative;width:100%;height:0;padding-bottom:60%;\"><iframe src=\"about:blank\" style=\"position:absolute;width:100%;height:100%;left:0;top:0;border:none !important;\" data-html=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 onload=\"this.contentDocument.open();this.contentDocument.write(atob(this.getAttribute('data-html')));this.contentDocument.close();\" allowfullscreen webkitallowfullscreen mozallowfullscreen></iframe></div></div>"
      ],
      "text/plain": [
       "<folium.folium.Map at 0x11abb9c50>"
      ]
     },
     "execution_count": 12,
     "metadata": {},
     "output_type": "execute_result"
    }
   ],
   "source": [
    "\n",
    "#Load spatial informacion\n",
    "\n",
    "lats = list(some_track['geometry'].apply(lambda coord: coord.y))\n",
    "lngs = list(some_track['geometry'].apply(lambda coord: coord.x))\n",
    "\n",
    "avg_lat = sum(lats) / len(lats)\n",
    "avg_lngs = sum(lngs) / len(lngs)\n",
    "\n",
    "# Load speed and time information\n",
    "\n",
    "x=some_track['time']\n",
    "y=some_track['Speed.value']\n",
    "x=[s.replace('T',' ') for s in (x)]\n",
    "x= pd.Series(x)\n",
    "x=pd.to_datetime(x)\n",
    "\n",
    "# create a new plot with figure\n",
    "chart = figure(x_axis_type=\"datetime\",plot_width=450, plot_height=275, x_axis_label=\"Time\",y_axis_label=\"km/h\")\n",
    "chart.line(x,y,line_width=2)\n",
    "chart.title.text = 'Speed information - Track id:'+ str(some_track_id)\n",
    "\n",
    "html = file_html(chart, CDN, \"Speed value\")\n",
    "iframe = branca.element.IFrame(html=html, width=500, height=300)\n",
    "popup = folium.Popup(iframe)\n",
    "\n",
    "# Plot map\n",
    "\n",
    "m = folium.Map(location=[avg_lat, avg_lngs], zoom_start=13)\n",
    "folium.PolyLine([coords for coords in zip(lats, lngs)],popup=popup, color='blue').add_to(m)\n",
    "m"
   ]
  },
  {
   "cell_type": "markdown",
   "metadata": {},
   "source": [
    "## Experience\n",
    "\n",
    "On the one hand, I had some problems with the installation of jupyter so I had to re-install anaconda to open the jupyter notebook. Additionally, for the implementation of the popup information I had problems adding the 'bokeh' graphic html into the popup. I used multiple sources of information (e.g bokeh & folium documentation, and stackoverflow) to fix this problem. \n"
   ]
  },
  {
   "cell_type": "code",
   "execution_count": null,
   "metadata": {},
   "outputs": [],
   "source": []
  },
  {
   "cell_type": "code",
   "execution_count": null,
   "metadata": {},
   "outputs": [],
   "source": []
  }
 ],
 "metadata": {
  "kernelspec": {
   "display_name": "Python 3",
   "language": "python",
   "name": "python3"
  },
  "language_info": {
   "codemirror_mode": {
    "name": "ipython",
    "version": 3
   },
   "file_extension": ".py",
   "mimetype": "text/x-python",
   "name": "python",
   "nbconvert_exporter": "python",
   "pygments_lexer": "ipython3",
   "version": "3.7.6"
  }
 },
 "nbformat": 4,
 "nbformat_minor": 4
}
