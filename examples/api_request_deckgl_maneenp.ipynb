{
 "cells": [
  {
   "cell_type": "markdown",
   "metadata": {},
   "source": [
    "# Package loading and basic configurations"
   ]
  },
  {
   "cell_type": "code",
   "execution_count": 1,
   "metadata": {
    "scrolled": true
   },
   "outputs": [],
   "source": [
    "%load_ext autoreload\n",
    "%autoreload 2\n",
    "\n",
    "# load dependencies'\n",
    "import pandas as pd\n",
    "import geopandas as gpd\n",
    "\n",
    "from envirocar import TrackAPI, DownloadClient, BboxSelector, ECConfig\n",
    "\n",
    "# create an initial but optional config and an api client\n",
    "config = ECConfig()\n",
    "track_api = TrackAPI(api_client=DownloadClient(config=config))"
   ]
  },
  {
   "cell_type": "markdown",
   "metadata": {},
   "source": [
    "# Querying enviroCar Tracks"
   ]
  },
  {
   "cell_type": "markdown",
   "metadata": {},
   "source": [
    "The following cell queries tracks from the enviroCar API. It defines a bbox for the area of Münster (Germany) and requests 50 tracks. The result is a GeoDataFrame, which is a geo-extended Pandas dataframe from the GeoPandas library. It contains all information of the track in a flat dataframe format including a specific geometry column. "
   ]
  },
  {
   "cell_type": "code",
   "execution_count": 2,
   "metadata": {},
   "outputs": [
    {
     "data": {
      "text/html": [
       "<div>\n",
       "<style scoped>\n",
       "    .dataframe tbody tr th:only-of-type {\n",
       "        vertical-align: middle;\n",
       "    }\n",
       "\n",
       "    .dataframe tbody tr th {\n",
       "        vertical-align: top;\n",
       "    }\n",
       "\n",
       "    .dataframe thead th {\n",
       "        text-align: right;\n",
       "    }\n",
       "</style>\n",
       "<table border=\"1\" class=\"dataframe\">\n",
       "  <thead>\n",
       "    <tr style=\"text-align: right;\">\n",
       "      <th></th>\n",
       "      <th>id</th>\n",
       "      <th>time</th>\n",
       "      <th>geometry</th>\n",
       "      <th>GPS Bearing.value</th>\n",
       "      <th>GPS Bearing.unit</th>\n",
       "      <th>Intake Temperature.value</th>\n",
       "      <th>Intake Temperature.unit</th>\n",
       "      <th>MAF.value</th>\n",
       "      <th>MAF.unit</th>\n",
       "      <th>Intake Pressure.value</th>\n",
       "      <th>...</th>\n",
       "      <th>Consumption.value</th>\n",
       "      <th>Consumption.unit</th>\n",
       "      <th>Throttle Position.value</th>\n",
       "      <th>Throttle Position.unit</th>\n",
       "      <th>track.appVersion</th>\n",
       "      <th>track.touVersion</th>\n",
       "      <th>O2 Lambda Voltage.value</th>\n",
       "      <th>O2 Lambda Voltage.unit</th>\n",
       "      <th>O2 Lambda Voltage ER.value</th>\n",
       "      <th>O2 Lambda Voltage ER.unit</th>\n",
       "    </tr>\n",
       "  </thead>\n",
       "  <tbody>\n",
       "    <tr>\n",
       "      <th>0</th>\n",
       "      <td>5b46294f44ea850910a1c1e0</td>\n",
       "      <td>2018-07-11T06:07:23</td>\n",
       "      <td>POINT (6.41455 51.20328)</td>\n",
       "      <td>117.943870</td>\n",
       "      <td>deg</td>\n",
       "      <td>28.000001</td>\n",
       "      <td>c</td>\n",
       "      <td>35.669282</td>\n",
       "      <td>l/s</td>\n",
       "      <td>120.000001</td>\n",
       "      <td>...</td>\n",
       "      <td>NaN</td>\n",
       "      <td>NaN</td>\n",
       "      <td>NaN</td>\n",
       "      <td>NaN</td>\n",
       "      <td>NaN</td>\n",
       "      <td>NaN</td>\n",
       "      <td>NaN</td>\n",
       "      <td>NaN</td>\n",
       "      <td>NaN</td>\n",
       "      <td>NaN</td>\n",
       "    </tr>\n",
       "    <tr>\n",
       "      <th>1</th>\n",
       "      <td>5b46294f44ea850910a1c1e2</td>\n",
       "      <td>2018-07-11T06:07:28</td>\n",
       "      <td>POINT (6.41512 51.20308)</td>\n",
       "      <td>115.088323</td>\n",
       "      <td>deg</td>\n",
       "      <td>28.000000</td>\n",
       "      <td>c</td>\n",
       "      <td>31.446508</td>\n",
       "      <td>l/s</td>\n",
       "      <td>113.073678</td>\n",
       "      <td>...</td>\n",
       "      <td>NaN</td>\n",
       "      <td>NaN</td>\n",
       "      <td>NaN</td>\n",
       "      <td>NaN</td>\n",
       "      <td>NaN</td>\n",
       "      <td>NaN</td>\n",
       "      <td>NaN</td>\n",
       "      <td>NaN</td>\n",
       "      <td>NaN</td>\n",
       "      <td>NaN</td>\n",
       "    </tr>\n",
       "    <tr>\n",
       "      <th>2</th>\n",
       "      <td>5b46294f44ea850910a1c1e3</td>\n",
       "      <td>2018-07-11T06:07:33</td>\n",
       "      <td>POINT (6.41564 51.20299)</td>\n",
       "      <td>106.541059</td>\n",
       "      <td>deg</td>\n",
       "      <td>28.000000</td>\n",
       "      <td>c</td>\n",
       "      <td>28.072108</td>\n",
       "      <td>l/s</td>\n",
       "      <td>112.068772</td>\n",
       "      <td>...</td>\n",
       "      <td>NaN</td>\n",
       "      <td>NaN</td>\n",
       "      <td>NaN</td>\n",
       "      <td>NaN</td>\n",
       "      <td>NaN</td>\n",
       "      <td>NaN</td>\n",
       "      <td>NaN</td>\n",
       "      <td>NaN</td>\n",
       "      <td>NaN</td>\n",
       "      <td>NaN</td>\n",
       "    </tr>\n",
       "    <tr>\n",
       "      <th>3</th>\n",
       "      <td>5b46294f44ea850910a1c1e4</td>\n",
       "      <td>2018-07-11T06:07:38</td>\n",
       "      <td>POINT (6.41615 51.20291)</td>\n",
       "      <td>99.885196</td>\n",
       "      <td>deg</td>\n",
       "      <td>28.000000</td>\n",
       "      <td>c</td>\n",
       "      <td>33.429661</td>\n",
       "      <td>l/s</td>\n",
       "      <td>129.759303</td>\n",
       "      <td>...</td>\n",
       "      <td>NaN</td>\n",
       "      <td>NaN</td>\n",
       "      <td>NaN</td>\n",
       "      <td>NaN</td>\n",
       "      <td>NaN</td>\n",
       "      <td>NaN</td>\n",
       "      <td>NaN</td>\n",
       "      <td>NaN</td>\n",
       "      <td>NaN</td>\n",
       "      <td>NaN</td>\n",
       "    </tr>\n",
       "    <tr>\n",
       "      <th>4</th>\n",
       "      <td>5b46294f44ea850910a1c1e5</td>\n",
       "      <td>2018-07-11T06:07:43</td>\n",
       "      <td>POINT (6.41671 51.20282)</td>\n",
       "      <td>104.435649</td>\n",
       "      <td>deg</td>\n",
       "      <td>27.999999</td>\n",
       "      <td>c</td>\n",
       "      <td>25.774274</td>\n",
       "      <td>l/s</td>\n",
       "      <td>106.020177</td>\n",
       "      <td>...</td>\n",
       "      <td>NaN</td>\n",
       "      <td>NaN</td>\n",
       "      <td>NaN</td>\n",
       "      <td>NaN</td>\n",
       "      <td>NaN</td>\n",
       "      <td>NaN</td>\n",
       "      <td>NaN</td>\n",
       "      <td>NaN</td>\n",
       "      <td>NaN</td>\n",
       "      <td>NaN</td>\n",
       "    </tr>\n",
       "  </tbody>\n",
       "</table>\n",
       "<p>5 rows × 54 columns</p>\n",
       "</div>"
      ],
      "text/plain": [
       "                         id                 time                  geometry  \\\n",
       "0  5b46294f44ea850910a1c1e0  2018-07-11T06:07:23  POINT (6.41455 51.20328)   \n",
       "1  5b46294f44ea850910a1c1e2  2018-07-11T06:07:28  POINT (6.41512 51.20308)   \n",
       "2  5b46294f44ea850910a1c1e3  2018-07-11T06:07:33  POINT (6.41564 51.20299)   \n",
       "3  5b46294f44ea850910a1c1e4  2018-07-11T06:07:38  POINT (6.41615 51.20291)   \n",
       "4  5b46294f44ea850910a1c1e5  2018-07-11T06:07:43  POINT (6.41671 51.20282)   \n",
       "\n",
       "   GPS Bearing.value GPS Bearing.unit  Intake Temperature.value  \\\n",
       "0         117.943870              deg                 28.000001   \n",
       "1         115.088323              deg                 28.000000   \n",
       "2         106.541059              deg                 28.000000   \n",
       "3          99.885196              deg                 28.000000   \n",
       "4         104.435649              deg                 27.999999   \n",
       "\n",
       "  Intake Temperature.unit  MAF.value MAF.unit  Intake Pressure.value  ...  \\\n",
       "0                       c  35.669282      l/s             120.000001  ...   \n",
       "1                       c  31.446508      l/s             113.073678  ...   \n",
       "2                       c  28.072108      l/s             112.068772  ...   \n",
       "3                       c  33.429661      l/s             129.759303  ...   \n",
       "4                       c  25.774274      l/s             106.020177  ...   \n",
       "\n",
       "  Consumption.value  Consumption.unit Throttle Position.value  \\\n",
       "0               NaN               NaN                     NaN   \n",
       "1               NaN               NaN                     NaN   \n",
       "2               NaN               NaN                     NaN   \n",
       "3               NaN               NaN                     NaN   \n",
       "4               NaN               NaN                     NaN   \n",
       "\n",
       "   Throttle Position.unit track.appVersion  track.touVersion  \\\n",
       "0                     NaN              NaN               NaN   \n",
       "1                     NaN              NaN               NaN   \n",
       "2                     NaN              NaN               NaN   \n",
       "3                     NaN              NaN               NaN   \n",
       "4                     NaN              NaN               NaN   \n",
       "\n",
       "  O2 Lambda Voltage.value  O2 Lambda Voltage.unit O2 Lambda Voltage ER.value  \\\n",
       "0                     NaN                     NaN                        NaN   \n",
       "1                     NaN                     NaN                        NaN   \n",
       "2                     NaN                     NaN                        NaN   \n",
       "3                     NaN                     NaN                        NaN   \n",
       "4                     NaN                     NaN                        NaN   \n",
       "\n",
       "   O2 Lambda Voltage ER.unit  \n",
       "0                        NaN  \n",
       "1                        NaN  \n",
       "2                        NaN  \n",
       "3                        NaN  \n",
       "4                        NaN  \n",
       "\n",
       "[5 rows x 54 columns]"
      ]
     },
     "execution_count": 2,
     "metadata": {},
     "output_type": "execute_result"
    }
   ],
   "source": [
    "bbox = BboxSelector([\n",
    "    6.3239, # min_x\n",
    "    51.1316, # min_y\n",
    "    6.5502, # max_x\n",
    "    51.2555  # max_y\n",
    "])\n",
    "\n",
    "# issue a query\n",
    "track_df = track_api.get_tracks(bbox=bbox, num_results=50) # requesting 50 tracks inside the bbox\n",
    "track_df.head()"
   ]
  },
  {
   "cell_type": "code",
   "execution_count": 3,
   "metadata": {},
   "outputs": [
    {
     "data": {
      "text/plain": [
       "<matplotlib.axes._subplots.AxesSubplot at 0x18985973788>"
      ]
     },
     "execution_count": 3,
     "metadata": {},
     "output_type": "execute_result"
    },
    {
     "data": {
      "image/png": "[encoded data removed]",
      "text/plain": [
       "<Figure size 576x720 with 1 Axes>"
      ]
     },
     "metadata": {
      "needs_background": "light"
     },
     "output_type": "display_data"
    }
   ],
   "source": [
    "track_df.plot(figsize=(8, 10))\n",
    "\n"
   ]
  },
  {
   "cell_type": "markdown",
   "metadata": {},
   "source": [
    "# Inspecting a single Track"
   ]
  },
  {
   "cell_type": "markdown",
   "metadata": {},
   "source": [
    "Single track is displayed with plotly express"
   ]
  },
  {
   "cell_type": "code",
   "execution_count": 17,
   "metadata": {},
   "outputs": [
    {
     "data": {
      "application/vnd.plotly.v1+json": {
       "config": {
        "plotlyServerURL": "https://plot.ly"
       },
       "data": [
        {
         "hovertemplate": "lats=%{x}<br>longs=%{y}<extra></extra>",
         "legendgroup": "",
         "line": {
          "color": "#636efa",
          "dash": "solid"
         },
         "mode": "lines",
         "name": "",
         "showlegend": false,
         "type": "scatter",
         "x": [
          51.166520238258684,
          51.16653832298039,
          51.16656264793261,
          51.16646182759749,
          51.166440519205835,
          51.16643880632864,
          51.16643880632865,
          51.16643880632865,
          51.16643880632865,
          51.166432333335905,
          51.166432333335905,
          51.1664324486022,
          51.16643015375647,
          51.166382393477804,
          51.166296877622536,
          51.1661877765454,
          51.16604121429204,
          51.16596060763668,
          51.16599229690948,
          51.166061852773055,
          51.1663254126309,
          51.166587540212916,
          51.166852345662974,
          51.16710924898567,
          51.16735346718181,
          51.167605360101454,
          51.16790627366481,
          51.16817891467156,
          51.16847893635425,
          51.168590493675495,
          51.16859203379417,
          51.16859203379417,
          51.16858974637992,
          51.16859050885134,
          51.16859050885134,
          51.16859203379417,
          51.16859050885134,
          51.168588983908506,
          51.168588983908506,
          51.168880156702514,
          51.168680669543335,
          51.16833300002915,
          51.16811276490024,
          51.16782644492167,
          51.167418838197094,
          51.16691452780074,
          51.16641839229939,
          51.166000422027786,
          51.165647922503844,
          51.16531773506742,
          51.16499674349526,
          51.16482514329071,
          51.164675477576715,
          51.16451643894863,
          51.16436130551978,
          51.16424717286806,
          51.164214959509685,
          51.16410572053105,
          51.16391591459434,
          51.163650041319805,
          51.1634026413052,
          51.163179742417896,
          51.16299908575811,
          51.162898944454014,
          51.16276534660681,
          51.16260393379502,
          51.16248508025819,
          51.16242891295164,
          51.16242732171028,
          51.16242427219207,
          51.16242579695117,
          51.16242579695118,
          51.16242427219207,
          51.16233130808528,
          51.162212372580306,
          51.162001990814986,
          51.161718640368136,
          51.16140202975698,
          51.161061213628656,
          51.16075747519888,
          51.160454049320656,
          51.16014239730554,
          51.15983244101062,
          51.159468943937604,
          51.15910112212867,
          51.158735836529935,
          51.158370848410264,
          51.157988558373866,
          51.15757011050944,
          51.15728814043668,
          51.156828020435775,
          51.15632128965406,
          51.15587058350168,
          51.15549072626955,
          51.15529622214812,
          51.155135510977054,
          51.15481862594824,
          51.15436267238311,
          51.154058407654496,
          51.15385765466693,
          51.1536662457653,
          51.15347680679291,
          51.15331476634056,
          51.153163281143726,
          51.15303042369066,
          51.152906610052696,
          51.152855686383084,
          51.1529006471725,
          51.153013644536756,
          51.15309103156373,
          51.15313643163974,
          51.15319505880371,
          51.1532263732897,
          51.15294065280713,
          51.152467745077985,
          51.152119209646514,
          51.15184870077682,
          51.1515229478147,
          51.151180146413,
          51.150833794232135,
          51.15037954713465,
          51.149964816684744,
          51.14970869958706,
          51.149296912111524,
          51.14860082609311,
          51.14782141803066,
          51.14716722975821,
          51.146558971732745,
          51.14627903619841,
          51.14629969920571,
          51.14638815316392,
          51.14637172963084,
          51.14623107562706,
          51.146140520901625,
          51.14606095706388,
          51.14605667294683,
          51.146254042000535,
          51.14658641089902,
          51.14689673207372,
          51.14675003975557,
          51.14635007490413,
          51.146050727893936,
          51.14578295664976,
          51.14572780904961,
          51.14566769236862,
          51.145343252126224,
          51.14483621668935,
          51.144591989586864,
          51.14457155053952,
          51.14457155053952,
          51.14457307476655,
          51.144573074766555,
          51.14457231265303,
          51.14447546719563,
          51.144205776497174,
          51.14397773184671,
          51.14368956493835,
          51.143530811017584,
          51.14315677581031,
          51.142758420466706,
          51.14273313356409,
          51.14273237147798,
          51.14273237147799,
          51.14254921273382,
          51.14206268626151,
          51.141404601766354,
          51.14072056862054,
          51.14006874818632,
          51.13985517704026,
          51.13981953426666,
          51.140124868564335,
          51.14049649587531,
          51.14102288747485,
          51.1418510911582,
          51.14279263781528,
          51.14373407972915,
          51.14452586170071,
          51.145156109371435,
          51.145556490139555,
          51.14565719667323,
          51.14559605567537,
          51.145416416234156,
          51.14521459648099,
          51.145050147063046,
          51.14490934956546,
          51.14479696151565,
          51.144666466213984,
          51.1445301237354,
          51.14440949248945,
          51.144134905379836,
          51.14356878183244,
          51.14297130081338,
          51.142366574913645,
          51.14175681303846,
          51.1412350155587
         ],
         "xaxis": "x",
         "y": [
          6.44965563644609,
          6.45055935533521,
          6.451525548246278,
          6.452174481501801,
          6.452312430790405,
          6.452313888300575,
          6.452313888300575,
          6.452313888300575,
          6.452313888300575,
          6.452324120832352,
          6.452324120832352,
          6.452325832957797,
          6.452335823431408,
          6.452676354987936,
          6.45329537488239,
          6.454147821371768,
          6.455058178381915,
          6.456108524517946,
          6.4570548954579845,
          6.4578827975061355,
          6.458685614198814,
          6.459501926059821,
          6.460377479397283,
          6.461209760230249,
          6.461994939154116,
          6.462828938987607,
          6.463821658461972,
          6.464715768814235,
          6.465460145142524,
          6.465713755969625,
          6.465713965520415,
          6.465713965520415,
          6.465713676480484,
          6.465713772827128,
          6.465713772827128,
          6.465713965520414,
          6.465713772827128,
          6.465713580133841,
          6.4657135801338415,
          6.466105614892133,
          6.466639380084272,
          6.467399208075134,
          6.46780749312367,
          6.468360939959146,
          6.469213302098073,
          6.470220046284913,
          6.471220005698736,
          6.472003733087213,
          6.472436136773506,
          6.472805409874221,
          6.473148245965609,
          6.473756134973026,
          6.4745421699184025,
          6.4753227696458975,
          6.476126914770111,
          6.4766161843578525,
          6.47674353614436,
          6.477299828453029,
          6.478298935838744,
          6.479444070023083,
          6.480499878208304,
          6.481205053394329,
          6.481726402353355,
          6.4820698389386555,
          6.482490051986289,
          6.4829446501670445,
          6.483333348321977,
          6.483531443028704,
          6.483540767364044,
          6.483540380914912,
          6.483540574139478,
          6.483540574139478,
          6.483540380914911,
          6.483853115546298,
          6.484298338868039,
          6.485193486160471,
          6.486374541038783,
          6.487723869342826,
          6.489145161983988,
          6.490505983197281,
          6.491879087166426,
          6.493234732383994,
          6.494521471391984,
          6.495882969934129,
          6.497265322959509,
          6.498609585129135,
          6.499974041058769,
          6.501353443392771,
          6.5026776450957104,
          6.503651027808806,
          6.50402638009336,
          6.504442609992665,
          6.504770538252721,
          6.504927457043855,
          6.504945398519796,
          6.5048317566120515,
          6.504279580743473,
          6.50343650244639,
          6.502504026098893,
          6.5019303680268905,
          6.501501012475114,
          6.5018267082194265,
          6.502641198588001,
          6.503628743419604,
          6.504544084965584,
          6.505423634329172,
          6.5062955441909045,
          6.507120496681336,
          6.508028641756308,
          6.508868295044428,
          6.509701779376148,
          6.510638720444412,
          6.511509130093299,
          6.512002018799151,
          6.512380963404935,
          6.512767591902145,
          6.513357821674342,
          6.514139390021986,
          6.514943876078721,
          6.515709468597429,
          6.516236760154584,
          6.51682582683582,
          6.51774423535627,
          6.518604914241889,
          6.519346908901606,
          6.5200718325713165,
          6.520911945297207,
          6.5217312589888925,
          6.522585333446599,
          6.523947947771093,
          6.525443380750109,
          6.526918426650752,
          6.528554811307,
          6.530354006845208,
          6.532170998883419,
          6.533882575619683,
          6.535310601398695,
          6.536856328641533,
          6.5384338176168475,
          6.539935498504091,
          6.541609439432516,
          6.542878466144334,
          6.543867678070267,
          6.544567416843731,
          6.544831164760503,
          6.544895174069943,
          6.544682750735607,
          6.544583327184267,
          6.544571527221617,
          6.544571527221617,
          6.544571722265051,
          6.544571722265051,
          6.544571624743334,
          6.54452748977633,
          6.544357517280142,
          6.544151296100817,
          6.543887374417969,
          6.543763530000757,
          6.5435894849372715,
          6.543622054543165,
          6.543626022721208,
          6.543625925213581,
          6.543625925213581,
          6.543684706798793,
          6.543760819793374,
          6.54390658280006,
          6.544128294636792,
          6.544335893153744,
          6.544419650563794,
          6.5449910745236215,
          6.546087502390855,
          6.5474341846259225,
          6.549017918340255,
          6.5504474827946435,
          6.55181068733429,
          6.553028647376103,
          6.553834532612429,
          6.55444471321495,
          6.554873787058483,
          6.555026820885618,
          6.555513518182473,
          6.556476029624289,
          6.55746376289082,
          6.558373282721926,
          6.559389069249312,
          6.56027263915617,
          6.561201323519332,
          6.562161391716282,
          6.5629595010477395,
          6.5631488295032145,
          6.563238866774545,
          6.5633118291624015,
          6.5634244359643015,
          6.563533543388902,
          6.5639658706178015
         ],
         "yaxis": "y"
        }
       ],
       "layout": {
        "legend": {
         "tracegroupgap": 0
        },
        "template": {
         "data": {
          "bar": [
           {
            "error_x": {
             "color": "#2a3f5f"
            },
            "error_y": {
             "color": "#2a3f5f"
            },
            "marker": {
             "line": {
              "color": "#E5ECF6",
              "width": 0.5
             }
            },
            "type": "bar"
           }
          ],
          "barpolar": [
           {
            "marker": {
             "line": {
              "color": "#E5ECF6",
              "width": 0.5
             }
            },
            "type": "barpolar"
           }
          ],
          "carpet": [
           {
            "aaxis": {
             "endlinecolor": "#2a3f5f",
             "gridcolor": "white",
             "linecolor": "white",
             "minorgridcolor": "white",
             "startlinecolor": "#2a3f5f"
            },
            "baxis": {
             "endlinecolor": "#2a3f5f",
             "gridcolor": "white",
             "linecolor": "white",
             "minorgridcolor": "white",
             "startlinecolor": "#2a3f5f"
            },
            "type": "carpet"
           }
          ],
          "choropleth": [
           {
            "colorbar": {
             "outlinewidth": 0,
             "ticks": ""
            },
            "type": "choropleth"
           }
          ],
          "contour": [
           {
            "colorbar": {
             "outlinewidth": 0,
             "ticks": ""
            },
            "colorscale": [
             [
              0,
              "#0d0887"
             ],
             [
              0.1111111111111111,
              "#46039f"
             ],
             [
              0.2222222222222222,
              "#7201a8"
             ],
             [
              0.3333333333333333,
              "#9c179e"
             ],
             [
              0.4444444444444444,
              "#bd3786"
             ],
             [
              0.5555555555555556,
              "#d8576b"
             ],
             [
              0.6666666666666666,
              "#ed7953"
             ],
             [
              0.7777777777777778,
              "#fb9f3a"
             ],
             [
              0.8888888888888888,
              "#fdca26"
             ],
             [
              1,
              "#f0f921"
             ]
            ],
            "type": "contour"
           }
          ],
          "contourcarpet": [
           {
            "colorbar": {
             "outlinewidth": 0,
             "ticks": ""
            },
            "type": "contourcarpet"
           }
          ],
          "heatmap": [
           {
            "colorbar": {
             "outlinewidth": 0,
             "ticks": ""
            },
            "colorscale": [
             [
              0,
              "#0d0887"
             ],
             [
              0.1111111111111111,
              "#46039f"
             ],
             [
              0.2222222222222222,
              "#7201a8"
             ],
             [
              0.3333333333333333,
              "#9c179e"
             ],
             [
              0.4444444444444444,
              "#bd3786"
             ],
             [
              0.5555555555555556,
              "#d8576b"
             ],
             [
              0.6666666666666666,
              "#ed7953"
             ],
             [
              0.7777777777777778,
              "#fb9f3a"
             ],
             [
              0.8888888888888888,
              "#fdca26"
             ],
             [
              1,
              "#f0f921"
             ]
            ],
            "type": "heatmap"
           }
          ],
          "heatmapgl": [
           {
            "colorbar": {
             "outlinewidth": 0,
             "ticks": ""
            },
            "colorscale": [
             [
              0,
              "#0d0887"
             ],
             [
              0.1111111111111111,
              "#46039f"
             ],
             [
              0.2222222222222222,
              "#7201a8"
             ],
             [
              0.3333333333333333,
              "#9c179e"
             ],
             [
              0.4444444444444444,
              "#bd3786"
             ],
             [
              0.5555555555555556,
              "#d8576b"
             ],
             [
              0.6666666666666666,
              "#ed7953"
             ],
             [
              0.7777777777777778,
              "#fb9f3a"
             ],
             [
              0.8888888888888888,
              "#fdca26"
             ],
             [
              1,
              "#f0f921"
             ]
            ],
            "type": "heatmapgl"
           }
          ],
          "histogram": [
           {
            "marker": {
             "colorbar": {
              "outlinewidth": 0,
              "ticks": ""
             }
            },
            "type": "histogram"
           }
          ],
          "histogram2d": [
           {
            "colorbar": {
             "outlinewidth": 0,
             "ticks": ""
            },
            "colorscale": [
             [
              0,
              "#0d0887"
             ],
             [
              0.1111111111111111,
              "#46039f"
             ],
             [
              0.2222222222222222,
              "#7201a8"
             ],
             [
              0.3333333333333333,
              "#9c179e"
             ],
             [
              0.4444444444444444,
              "#bd3786"
             ],
             [
              0.5555555555555556,
              "#d8576b"
             ],
             [
              0.6666666666666666,
              "#ed7953"
             ],
             [
              0.7777777777777778,
              "#fb9f3a"
             ],
             [
              0.8888888888888888,
              "#fdca26"
             ],
             [
              1,
              "#f0f921"
             ]
            ],
            "type": "histogram2d"
           }
          ],
          "histogram2dcontour": [
           {
            "colorbar": {
             "outlinewidth": 0,
             "ticks": ""
            },
            "colorscale": [
             [
              0,
              "#0d0887"
             ],
             [
              0.1111111111111111,
              "#46039f"
             ],
             [
              0.2222222222222222,
              "#7201a8"
             ],
             [
              0.3333333333333333,
              "#9c179e"
             ],
             [
              0.4444444444444444,
              "#bd3786"
             ],
             [
              0.5555555555555556,
              "#d8576b"
             ],
             [
              0.6666666666666666,
              "#ed7953"
             ],
             [
              0.7777777777777778,
              "#fb9f3a"
             ],
             [
              0.8888888888888888,
              "#fdca26"
             ],
             [
              1,
              "#f0f921"
             ]
            ],
            "type": "histogram2dcontour"
           }
          ],
          "mesh3d": [
           {
            "colorbar": {
             "outlinewidth": 0,
             "ticks": ""
            },
            "type": "mesh3d"
           }
          ],
          "parcoords": [
           {
            "line": {
             "colorbar": {
              "outlinewidth": 0,
              "ticks": ""
             }
            },
            "type": "parcoords"
           }
          ],
          "pie": [
           {
            "automargin": true,
            "type": "pie"
           }
          ],
          "scatter": [
           {
            "marker": {
             "colorbar": {
              "outlinewidth": 0,
              "ticks": ""
             }
            },
            "type": "scatter"
           }
          ],
          "scatter3d": [
           {
            "line": {
             "colorbar": {
              "outlinewidth": 0,
              "ticks": ""
             }
            },
            "marker": {
             "colorbar": {
              "outlinewidth": 0,
              "ticks": ""
             }
            },
            "type": "scatter3d"
           }
          ],
          "scattercarpet": [
           {
            "marker": {
             "colorbar": {
              "outlinewidth": 0,
              "ticks": ""
             }
            },
            "type": "scattercarpet"
           }
          ],
          "scattergeo": [
           {
            "marker": {
             "colorbar": {
              "outlinewidth": 0,
              "ticks": ""
             }
            },
            "type": "scattergeo"
           }
          ],
          "scattergl": [
           {
            "marker": {
             "colorbar": {
              "outlinewidth": 0,
              "ticks": ""
             }
            },
            "type": "scattergl"
           }
          ],
          "scattermapbox": [
           {
            "marker": {
             "colorbar": {
              "outlinewidth": 0,
              "ticks": ""
             }
            },
            "type": "scattermapbox"
           }
          ],
          "scatterpolar": [
           {
            "marker": {
             "colorbar": {
              "outlinewidth": 0,
              "ticks": ""
             }
            },
            "type": "scatterpolar"
           }
          ],
          "scatterpolargl": [
           {
            "marker": {
             "colorbar": {
              "outlinewidth": 0,
              "ticks": ""
             }
            },
            "type": "scatterpolargl"
           }
          ],
          "scatterternary": [
           {
            "marker": {
             "colorbar": {
              "outlinewidth": 0,
              "ticks": ""
             }
            },
            "type": "scatterternary"
           }
          ],
          "surface": [
           {
            "colorbar": {
             "outlinewidth": 0,
             "ticks": ""
            },
            "colorscale": [
             [
              0,
              "#0d0887"
             ],
             [
              0.1111111111111111,
              "#46039f"
             ],
             [
              0.2222222222222222,
              "#7201a8"
             ],
             [
              0.3333333333333333,
              "#9c179e"
             ],
             [
              0.4444444444444444,
              "#bd3786"
             ],
             [
              0.5555555555555556,
              "#d8576b"
             ],
             [
              0.6666666666666666,
              "#ed7953"
             ],
             [
              0.7777777777777778,
              "#fb9f3a"
             ],
             [
              0.8888888888888888,
              "#fdca26"
             ],
             [
              1,
              "#f0f921"
             ]
            ],
            "type": "surface"
           }
          ],
          "table": [
           {
            "cells": {
             "fill": {
              "color": "#EBF0F8"
             },
             "line": {
              "color": "white"
             }
            },
            "header": {
             "fill": {
              "color": "#C8D4E3"
             },
             "line": {
              "color": "white"
             }
            },
            "type": "table"
           }
          ]
         },
         "layout": {
          "annotationdefaults": {
           "arrowcolor": "#2a3f5f",
           "arrowhead": 0,
           "arrowwidth": 1
          },
          "coloraxis": {
           "colorbar": {
            "outlinewidth": 0,
            "ticks": ""
           }
          },
          "colorscale": {
           "diverging": [
            [
             0,
             "#8e0152"
            ],
            [
             0.1,
             "#c51b7d"
            ],
            [
             0.2,
             "#de77ae"
            ],
            [
             0.3,
             "#f1b6da"
            ],
            [
             0.4,
             "#fde0ef"
            ],
            [
             0.5,
             "#f7f7f7"
            ],
            [
             0.6,
             "#e6f5d0"
            ],
            [
             0.7,
             "#b8e186"
            ],
            [
             0.8,
             "#7fbc41"
            ],
            [
             0.9,
             "#4d9221"
            ],
            [
             1,
             "#276419"
            ]
           ],
           "sequential": [
            [
             0,
             "#0d0887"
            ],
            [
             0.1111111111111111,
             "#46039f"
            ],
            [
             0.2222222222222222,
             "#7201a8"
            ],
            [
             0.3333333333333333,
             "#9c179e"
            ],
            [
             0.4444444444444444,
             "#bd3786"
            ],
            [
             0.5555555555555556,
             "#d8576b"
            ],
            [
             0.6666666666666666,
             "#ed7953"
            ],
            [
             0.7777777777777778,
             "#fb9f3a"
            ],
            [
             0.8888888888888888,
             "#fdca26"
            ],
            [
             1,
             "#f0f921"
            ]
           ],
           "sequentialminus": [
            [
             0,
             "#0d0887"
            ],
            [
             0.1111111111111111,
             "#46039f"
            ],
            [
             0.2222222222222222,
             "#7201a8"
            ],
            [
             0.3333333333333333,
             "#9c179e"
            ],
            [
             0.4444444444444444,
             "#bd3786"
            ],
            [
             0.5555555555555556,
             "#d8576b"
            ],
            [
             0.6666666666666666,
             "#ed7953"
            ],
            [
             0.7777777777777778,
             "#fb9f3a"
            ],
            [
             0.8888888888888888,
             "#fdca26"
            ],
            [
             1,
             "#f0f921"
            ]
           ]
          },
          "colorway": [
           "#636efa",
           "#EF553B",
           "#00cc96",
           "#ab63fa",
           "#FFA15A",
           "#19d3f3",
           "#FF6692",
           "#B6E880",
           "#FF97FF",
           "#FECB52"
          ],
          "font": {
           "color": "#2a3f5f"
          },
          "geo": {
           "bgcolor": "white",
           "lakecolor": "white",
           "landcolor": "#E5ECF6",
           "showlakes": true,
           "showland": true,
           "subunitcolor": "white"
          },
          "hoverlabel": {
           "align": "left"
          },
          "hovermode": "closest",
          "mapbox": {
           "style": "light"
          },
          "paper_bgcolor": "white",
          "plot_bgcolor": "#E5ECF6",
          "polar": {
           "angularaxis": {
            "gridcolor": "white",
            "linecolor": "white",
            "ticks": ""
           },
           "bgcolor": "#E5ECF6",
           "radialaxis": {
            "gridcolor": "white",
            "linecolor": "white",
            "ticks": ""
           }
          },
          "scene": {
           "xaxis": {
            "backgroundcolor": "#E5ECF6",
            "gridcolor": "white",
            "gridwidth": 2,
            "linecolor": "white",
            "showbackground": true,
            "ticks": "",
            "zerolinecolor": "white"
           },
           "yaxis": {
            "backgroundcolor": "#E5ECF6",
            "gridcolor": "white",
            "gridwidth": 2,
            "linecolor": "white",
            "showbackground": true,
            "ticks": "",
            "zerolinecolor": "white"
           },
           "zaxis": {
            "backgroundcolor": "#E5ECF6",
            "gridcolor": "white",
            "gridwidth": 2,
            "linecolor": "white",
            "showbackground": true,
            "ticks": "",
            "zerolinecolor": "white"
           }
          },
          "shapedefaults": {
           "line": {
            "color": "#2a3f5f"
           }
          },
          "ternary": {
           "aaxis": {
            "gridcolor": "white",
            "linecolor": "white",
            "ticks": ""
           },
           "baxis": {
            "gridcolor": "white",
            "linecolor": "white",
            "ticks": ""
           },
           "bgcolor": "#E5ECF6",
           "caxis": {
            "gridcolor": "white",
            "linecolor": "white",
            "ticks": ""
           }
          },
          "title": {
           "x": 0.05
          },
          "xaxis": {
           "automargin": true,
           "gridcolor": "white",
           "linecolor": "white",
           "ticks": "",
           "title": {
            "standoff": 15
           },
           "zerolinecolor": "white",
           "zerolinewidth": 2
          },
          "yaxis": {
           "automargin": true,
           "gridcolor": "white",
           "linecolor": "white",
           "ticks": "",
           "title": {
            "standoff": 15
           },
           "zerolinecolor": "white",
           "zerolinewidth": 2
          }
         }
        },
        "title": {
         "text": "Some track"
        },
        "xaxis": {
         "anchor": "y",
         "domain": [
          0,
          1
         ],
         "title": {
          "text": "lats"
         }
        },
        "yaxis": {
         "anchor": "x",
         "domain": [
          0,
          1
         ],
         "title": {
          "text": "longs"
         }
        }
       }
      },
      "text/html": [
       "<div>\n",
       "        \n",
       "        \n",
       "            <div id=\"65ca7393-9ebe-4d82-a7e2-b85e75bd1d31\" class=\"plotly-graph-div\" style=\"height:525px; width:100%;\"></div>\n",
       "            <script type=\"text/javascript\">\n",
       "                require([\"plotly\"], function(Plotly) {\n",
       "                    window.PLOTLYENV=window.PLOTLYENV || {};\n",
       "                    \n",
       "                if (document.getElementById(\"65ca7393-9ebe-4d82-a7e2-b85e75bd1d31\")) {\n",
       "                    Plotly.newPlot(\n",
       "                        '65ca7393-9ebe-4d82-a7e2-b85e75bd1d31',\n",
       "                        [{\"hovertemplate\": \"lats=%{x}<br>longs=%{y}<extra></extra>\", \"legendgroup\": \"\", \"line\": {\"color\": \"#636efa\", \"dash\": \"solid\"}, \"mode\": \"lines\", \"name\": \"\", \"showlegend\": false, \"type\": \"scatter\", \"x\": [51.166520238258684, 51.16653832298039, 51.16656264793261, 51.16646182759749, 51.166440519205835, 51.16643880632864, 51.16643880632865, 51.16643880632865, 51.16643880632865, 51.166432333335905, 51.166432333335905, 51.1664324486022, 51.16643015375647, 51.166382393477804, 51.166296877622536, 51.1661877765454, 51.16604121429204, 51.16596060763668, 51.16599229690948, 51.166061852773055, 51.1663254126309, 51.166587540212916, 51.166852345662974, 51.16710924898567, 51.16735346718181, 51.167605360101454, 51.16790627366481, 51.16817891467156, 51.16847893635425, 51.168590493675495, 51.16859203379417, 51.16859203379417, 51.16858974637992, 51.16859050885134, 51.16859050885134, 51.16859203379417, 51.16859050885134, 51.168588983908506, 51.168588983908506, 51.168880156702514, 51.168680669543335, 51.16833300002915, 51.16811276490024, 51.16782644492167, 51.167418838197094, 51.16691452780074, 51.16641839229939, 51.166000422027786, 51.165647922503844, 51.16531773506742, 51.16499674349526, 51.16482514329071, 51.164675477576715, 51.16451643894863, 51.16436130551978, 51.16424717286806, 51.164214959509685, 51.16410572053105, 51.16391591459434, 51.163650041319805, 51.1634026413052, 51.163179742417896, 51.16299908575811, 51.162898944454014, 51.16276534660681, 51.16260393379502, 51.16248508025819, 51.16242891295164, 51.16242732171028, 51.16242427219207, 51.16242579695117, 51.16242579695118, 51.16242427219207, 51.16233130808528, 51.162212372580306, 51.162001990814986, 51.161718640368136, 51.16140202975698, 51.161061213628656, 51.16075747519888, 51.160454049320656, 51.16014239730554, 51.15983244101062, 51.159468943937604, 51.15910112212867, 51.158735836529935, 51.158370848410264, 51.157988558373866, 51.15757011050944, 51.15728814043668, 51.156828020435775, 51.15632128965406, 51.15587058350168, 51.15549072626955, 51.15529622214812, 51.155135510977054, 51.15481862594824, 51.15436267238311, 51.154058407654496, 51.15385765466693, 51.1536662457653, 51.15347680679291, 51.15331476634056, 51.153163281143726, 51.15303042369066, 51.152906610052696, 51.152855686383084, 51.1529006471725, 51.153013644536756, 51.15309103156373, 51.15313643163974, 51.15319505880371, 51.1532263732897, 51.15294065280713, 51.152467745077985, 51.152119209646514, 51.15184870077682, 51.1515229478147, 51.151180146413, 51.150833794232135, 51.15037954713465, 51.149964816684744, 51.14970869958706, 51.149296912111524, 51.14860082609311, 51.14782141803066, 51.14716722975821, 51.146558971732745, 51.14627903619841, 51.14629969920571, 51.14638815316392, 51.14637172963084, 51.14623107562706, 51.146140520901625, 51.14606095706388, 51.14605667294683, 51.146254042000535, 51.14658641089902, 51.14689673207372, 51.14675003975557, 51.14635007490413, 51.146050727893936, 51.14578295664976, 51.14572780904961, 51.14566769236862, 51.145343252126224, 51.14483621668935, 51.144591989586864, 51.14457155053952, 51.14457155053952, 51.14457307476655, 51.144573074766555, 51.14457231265303, 51.14447546719563, 51.144205776497174, 51.14397773184671, 51.14368956493835, 51.143530811017584, 51.14315677581031, 51.142758420466706, 51.14273313356409, 51.14273237147798, 51.14273237147799, 51.14254921273382, 51.14206268626151, 51.141404601766354, 51.14072056862054, 51.14006874818632, 51.13985517704026, 51.13981953426666, 51.140124868564335, 51.14049649587531, 51.14102288747485, 51.1418510911582, 51.14279263781528, 51.14373407972915, 51.14452586170071, 51.145156109371435, 51.145556490139555, 51.14565719667323, 51.14559605567537, 51.145416416234156, 51.14521459648099, 51.145050147063046, 51.14490934956546, 51.14479696151565, 51.144666466213984, 51.1445301237354, 51.14440949248945, 51.144134905379836, 51.14356878183244, 51.14297130081338, 51.142366574913645, 51.14175681303846, 51.1412350155587], \"xaxis\": \"x\", \"y\": [6.44965563644609, 6.45055935533521, 6.451525548246278, 6.452174481501801, 6.452312430790405, 6.452313888300575, 6.452313888300575, 6.452313888300575, 6.452313888300575, 6.452324120832352, 6.452324120832352, 6.452325832957797, 6.452335823431408, 6.452676354987936, 6.45329537488239, 6.454147821371768, 6.455058178381915, 6.456108524517946, 6.4570548954579845, 6.4578827975061355, 6.458685614198814, 6.459501926059821, 6.460377479397283, 6.461209760230249, 6.461994939154116, 6.462828938987607, 6.463821658461972, 6.464715768814235, 6.465460145142524, 6.465713755969625, 6.465713965520415, 6.465713965520415, 6.465713676480484, 6.465713772827128, 6.465713772827128, 6.465713965520414, 6.465713772827128, 6.465713580133841, 6.4657135801338415, 6.466105614892133, 6.466639380084272, 6.467399208075134, 6.46780749312367, 6.468360939959146, 6.469213302098073, 6.470220046284913, 6.471220005698736, 6.472003733087213, 6.472436136773506, 6.472805409874221, 6.473148245965609, 6.473756134973026, 6.4745421699184025, 6.4753227696458975, 6.476126914770111, 6.4766161843578525, 6.47674353614436, 6.477299828453029, 6.478298935838744, 6.479444070023083, 6.480499878208304, 6.481205053394329, 6.481726402353355, 6.4820698389386555, 6.482490051986289, 6.4829446501670445, 6.483333348321977, 6.483531443028704, 6.483540767364044, 6.483540380914912, 6.483540574139478, 6.483540574139478, 6.483540380914911, 6.483853115546298, 6.484298338868039, 6.485193486160471, 6.486374541038783, 6.487723869342826, 6.489145161983988, 6.490505983197281, 6.491879087166426, 6.493234732383994, 6.494521471391984, 6.495882969934129, 6.497265322959509, 6.498609585129135, 6.499974041058769, 6.501353443392771, 6.5026776450957104, 6.503651027808806, 6.50402638009336, 6.504442609992665, 6.504770538252721, 6.504927457043855, 6.504945398519796, 6.5048317566120515, 6.504279580743473, 6.50343650244639, 6.502504026098893, 6.5019303680268905, 6.501501012475114, 6.5018267082194265, 6.502641198588001, 6.503628743419604, 6.504544084965584, 6.505423634329172, 6.5062955441909045, 6.507120496681336, 6.508028641756308, 6.508868295044428, 6.509701779376148, 6.510638720444412, 6.511509130093299, 6.512002018799151, 6.512380963404935, 6.512767591902145, 6.513357821674342, 6.514139390021986, 6.514943876078721, 6.515709468597429, 6.516236760154584, 6.51682582683582, 6.51774423535627, 6.518604914241889, 6.519346908901606, 6.5200718325713165, 6.520911945297207, 6.5217312589888925, 6.522585333446599, 6.523947947771093, 6.525443380750109, 6.526918426650752, 6.528554811307, 6.530354006845208, 6.532170998883419, 6.533882575619683, 6.535310601398695, 6.536856328641533, 6.5384338176168475, 6.539935498504091, 6.541609439432516, 6.542878466144334, 6.543867678070267, 6.544567416843731, 6.544831164760503, 6.544895174069943, 6.544682750735607, 6.544583327184267, 6.544571527221617, 6.544571527221617, 6.544571722265051, 6.544571722265051, 6.544571624743334, 6.54452748977633, 6.544357517280142, 6.544151296100817, 6.543887374417969, 6.543763530000757, 6.5435894849372715, 6.543622054543165, 6.543626022721208, 6.543625925213581, 6.543625925213581, 6.543684706798793, 6.543760819793374, 6.54390658280006, 6.544128294636792, 6.544335893153744, 6.544419650563794, 6.5449910745236215, 6.546087502390855, 6.5474341846259225, 6.549017918340255, 6.5504474827946435, 6.55181068733429, 6.553028647376103, 6.553834532612429, 6.55444471321495, 6.554873787058483, 6.555026820885618, 6.555513518182473, 6.556476029624289, 6.55746376289082, 6.558373282721926, 6.559389069249312, 6.56027263915617, 6.561201323519332, 6.562161391716282, 6.5629595010477395, 6.5631488295032145, 6.563238866774545, 6.5633118291624015, 6.5634244359643015, 6.563533543388902, 6.5639658706178015], \"yaxis\": \"y\"}],\n",
       "                        {\"legend\": {\"tracegroupgap\": 0}, \"template\": {\"data\": {\"bar\": [{\"error_x\": {\"color\": \"#2a3f5f\"}, \"error_y\": {\"color\": \"#2a3f5f\"}, \"marker\": {\"line\": {\"color\": \"#E5ECF6\", \"width\": 0.5}}, \"type\": \"bar\"}], \"barpolar\": [{\"marker\": {\"line\": {\"color\": \"#E5ECF6\", \"width\": 0.5}}, \"type\": \"barpolar\"}], \"carpet\": [{\"aaxis\": {\"endlinecolor\": \"#2a3f5f\", \"gridcolor\": \"white\", \"linecolor\": \"white\", \"minorgridcolor\": \"white\", \"startlinecolor\": \"#2a3f5f\"}, \"baxis\": {\"endlinecolor\": \"#2a3f5f\", \"gridcolor\": \"white\", \"linecolor\": \"white\", \"minorgridcolor\": \"white\", \"startlinecolor\": \"#2a3f5f\"}, \"type\": \"carpet\"}], \"choropleth\": [{\"colorbar\": {\"outlinewidth\": 0, \"ticks\": \"\"}, \"type\": \"choropleth\"}], \"contour\": [{\"colorbar\": {\"outlinewidth\": 0, \"ticks\": \"\"}, \"colorscale\": [[0.0, \"#0d0887\"], [0.1111111111111111, \"#46039f\"], [0.2222222222222222, \"#7201a8\"], [0.3333333333333333, \"#9c179e\"], [0.4444444444444444, \"#bd3786\"], [0.5555555555555556, \"#d8576b\"], [0.6666666666666666, \"#ed7953\"], [0.7777777777777778, \"#fb9f3a\"], [0.8888888888888888, \"#fdca26\"], [1.0, \"#f0f921\"]], \"type\": \"contour\"}], \"contourcarpet\": [{\"colorbar\": {\"outlinewidth\": 0, \"ticks\": \"\"}, \"type\": \"contourcarpet\"}], \"heatmap\": [{\"colorbar\": {\"outlinewidth\": 0, \"ticks\": \"\"}, \"colorscale\": [[0.0, \"#0d0887\"], [0.1111111111111111, \"#46039f\"], [0.2222222222222222, \"#7201a8\"], [0.3333333333333333, \"#9c179e\"], [0.4444444444444444, \"#bd3786\"], [0.5555555555555556, \"#d8576b\"], [0.6666666666666666, \"#ed7953\"], [0.7777777777777778, \"#fb9f3a\"], [0.8888888888888888, \"#fdca26\"], [1.0, \"#f0f921\"]], \"type\": \"heatmap\"}], \"heatmapgl\": [{\"colorbar\": {\"outlinewidth\": 0, \"ticks\": \"\"}, \"colorscale\": [[0.0, \"#0d0887\"], [0.1111111111111111, \"#46039f\"], [0.2222222222222222, \"#7201a8\"], [0.3333333333333333, \"#9c179e\"], [0.4444444444444444, \"#bd3786\"], [0.5555555555555556, \"#d8576b\"], [0.6666666666666666, \"#ed7953\"], [0.7777777777777778, \"#fb9f3a\"], [0.8888888888888888, \"#fdca26\"], [1.0, \"#f0f921\"]], \"type\": \"heatmapgl\"}], \"histogram\": [{\"marker\": {\"colorbar\": {\"outlinewidth\": 0, \"ticks\": \"\"}}, \"type\": \"histogram\"}], \"histogram2d\": [{\"colorbar\": {\"outlinewidth\": 0, \"ticks\": \"\"}, \"colorscale\": [[0.0, \"#0d0887\"], [0.1111111111111111, \"#46039f\"], [0.2222222222222222, \"#7201a8\"], [0.3333333333333333, \"#9c179e\"], [0.4444444444444444, \"#bd3786\"], [0.5555555555555556, \"#d8576b\"], [0.6666666666666666, \"#ed7953\"], [0.7777777777777778, \"#fb9f3a\"], [0.8888888888888888, \"#fdca26\"], [1.0, \"#f0f921\"]], \"type\": \"histogram2d\"}], \"histogram2dcontour\": [{\"colorbar\": {\"outlinewidth\": 0, \"ticks\": \"\"}, \"colorscale\": [[0.0, \"#0d0887\"], [0.1111111111111111, \"#46039f\"], [0.2222222222222222, \"#7201a8\"], [0.3333333333333333, \"#9c179e\"], [0.4444444444444444, \"#bd3786\"], [0.5555555555555556, \"#d8576b\"], [0.6666666666666666, \"#ed7953\"], [0.7777777777777778, \"#fb9f3a\"], [0.8888888888888888, \"#fdca26\"], [1.0, \"#f0f921\"]], \"type\": \"histogram2dcontour\"}], \"mesh3d\": [{\"colorbar\": {\"outlinewidth\": 0, \"ticks\": \"\"}, \"type\": \"mesh3d\"}], \"parcoords\": [{\"line\": {\"colorbar\": {\"outlinewidth\": 0, \"ticks\": \"\"}}, \"type\": \"parcoords\"}], \"pie\": [{\"automargin\": true, \"type\": \"pie\"}], \"scatter\": [{\"marker\": {\"colorbar\": {\"outlinewidth\": 0, \"ticks\": \"\"}}, \"type\": \"scatter\"}], \"scatter3d\": [{\"line\": {\"colorbar\": {\"outlinewidth\": 0, \"ticks\": \"\"}}, \"marker\": {\"colorbar\": {\"outlinewidth\": 0, \"ticks\": \"\"}}, \"type\": \"scatter3d\"}], \"scattercarpet\": [{\"marker\": {\"colorbar\": {\"outlinewidth\": 0, \"ticks\": \"\"}}, \"type\": \"scattercarpet\"}], \"scattergeo\": [{\"marker\": {\"colorbar\": {\"outlinewidth\": 0, \"ticks\": \"\"}}, \"type\": \"scattergeo\"}], \"scattergl\": [{\"marker\": {\"colorbar\": {\"outlinewidth\": 0, \"ticks\": \"\"}}, \"type\": \"scattergl\"}], \"scattermapbox\": [{\"marker\": {\"colorbar\": {\"outlinewidth\": 0, \"ticks\": \"\"}}, \"type\": \"scattermapbox\"}], \"scatterpolar\": [{\"marker\": {\"colorbar\": {\"outlinewidth\": 0, \"ticks\": \"\"}}, \"type\": \"scatterpolar\"}], \"scatterpolargl\": [{\"marker\": {\"colorbar\": {\"outlinewidth\": 0, \"ticks\": \"\"}}, \"type\": \"scatterpolargl\"}], \"scatterternary\": [{\"marker\": {\"colorbar\": {\"outlinewidth\": 0, \"ticks\": \"\"}}, \"type\": \"scatterternary\"}], \"surface\": [{\"colorbar\": {\"outlinewidth\": 0, \"ticks\": \"\"}, \"colorscale\": [[0.0, \"#0d0887\"], [0.1111111111111111, \"#46039f\"], [0.2222222222222222, \"#7201a8\"], [0.3333333333333333, \"#9c179e\"], [0.4444444444444444, \"#bd3786\"], [0.5555555555555556, \"#d8576b\"], [0.6666666666666666, \"#ed7953\"], [0.7777777777777778, \"#fb9f3a\"], [0.8888888888888888, \"#fdca26\"], [1.0, \"#f0f921\"]], \"type\": \"surface\"}], \"table\": [{\"cells\": {\"fill\": {\"color\": \"#EBF0F8\"}, \"line\": {\"color\": \"white\"}}, \"header\": {\"fill\": {\"color\": \"#C8D4E3\"}, \"line\": {\"color\": \"white\"}}, \"type\": \"table\"}]}, \"layout\": {\"annotationdefaults\": {\"arrowcolor\": \"#2a3f5f\", \"arrowhead\": 0, \"arrowwidth\": 1}, \"coloraxis\": {\"colorbar\": {\"outlinewidth\": 0, \"ticks\": \"\"}}, \"colorscale\": {\"diverging\": [[0, \"#8e0152\"], [0.1, \"#c51b7d\"], [0.2, \"#de77ae\"], [0.3, \"#f1b6da\"], [0.4, \"#fde0ef\"], [0.5, \"#f7f7f7\"], [0.6, \"#e6f5d0\"], [0.7, \"#b8e186\"], [0.8, \"#7fbc41\"], [0.9, \"#4d9221\"], [1, \"#276419\"]], \"sequential\": [[0.0, \"#0d0887\"], [0.1111111111111111, \"#46039f\"], [0.2222222222222222, \"#7201a8\"], [0.3333333333333333, \"#9c179e\"], [0.4444444444444444, \"#bd3786\"], [0.5555555555555556, \"#d8576b\"], [0.6666666666666666, \"#ed7953\"], [0.7777777777777778, \"#fb9f3a\"], [0.8888888888888888, \"#fdca26\"], [1.0, \"#f0f921\"]], \"sequentialminus\": [[0.0, \"#0d0887\"], [0.1111111111111111, \"#46039f\"], [0.2222222222222222, \"#7201a8\"], [0.3333333333333333, \"#9c179e\"], [0.4444444444444444, \"#bd3786\"], [0.5555555555555556, \"#d8576b\"], [0.6666666666666666, \"#ed7953\"], [0.7777777777777778, \"#fb9f3a\"], [0.8888888888888888, \"#fdca26\"], [1.0, \"#f0f921\"]]}, \"colorway\": [\"#636efa\", \"#EF553B\", \"#00cc96\", \"#ab63fa\", \"#FFA15A\", \"#19d3f3\", \"#FF6692\", \"#B6E880\", \"#FF97FF\", \"#FECB52\"], \"font\": {\"color\": \"#2a3f5f\"}, \"geo\": {\"bgcolor\": \"white\", \"lakecolor\": \"white\", \"landcolor\": \"#E5ECF6\", \"showlakes\": true, \"showland\": true, \"subunitcolor\": \"white\"}, \"hoverlabel\": {\"align\": \"left\"}, \"hovermode\": \"closest\", \"mapbox\": {\"style\": \"light\"}, \"paper_bgcolor\": \"white\", \"plot_bgcolor\": \"#E5ECF6\", \"polar\": {\"angularaxis\": {\"gridcolor\": \"white\", \"linecolor\": \"white\", \"ticks\": \"\"}, \"bgcolor\": \"#E5ECF6\", \"radialaxis\": {\"gridcolor\": \"white\", \"linecolor\": \"white\", \"ticks\": \"\"}}, \"scene\": {\"xaxis\": {\"backgroundcolor\": \"#E5ECF6\", \"gridcolor\": \"white\", \"gridwidth\": 2, \"linecolor\": \"white\", \"showbackground\": true, \"ticks\": \"\", \"zerolinecolor\": \"white\"}, \"yaxis\": {\"backgroundcolor\": \"#E5ECF6\", \"gridcolor\": \"white\", \"gridwidth\": 2, \"linecolor\": \"white\", \"showbackground\": true, \"ticks\": \"\", \"zerolinecolor\": \"white\"}, \"zaxis\": {\"backgroundcolor\": \"#E5ECF6\", \"gridcolor\": \"white\", \"gridwidth\": 2, \"linecolor\": \"white\", \"showbackground\": true, \"ticks\": \"\", \"zerolinecolor\": \"white\"}}, \"shapedefaults\": {\"line\": {\"color\": \"#2a3f5f\"}}, \"ternary\": {\"aaxis\": {\"gridcolor\": \"white\", \"linecolor\": \"white\", \"ticks\": \"\"}, \"baxis\": {\"gridcolor\": \"white\", \"linecolor\": \"white\", \"ticks\": \"\"}, \"bgcolor\": \"#E5ECF6\", \"caxis\": {\"gridcolor\": \"white\", \"linecolor\": \"white\", \"ticks\": \"\"}}, \"title\": {\"x\": 0.05}, \"xaxis\": {\"automargin\": true, \"gridcolor\": \"white\", \"linecolor\": \"white\", \"ticks\": \"\", \"title\": {\"standoff\": 15}, \"zerolinecolor\": \"white\", \"zerolinewidth\": 2}, \"yaxis\": {\"automargin\": true, \"gridcolor\": \"white\", \"linecolor\": \"white\", \"ticks\": \"\", \"title\": {\"standoff\": 15}, \"zerolinecolor\": \"white\", \"zerolinewidth\": 2}}}, \"title\": {\"text\": \"Some track\"}, \"xaxis\": {\"anchor\": \"y\", \"domain\": [0.0, 1.0], \"title\": {\"text\": \"lats\"}}, \"yaxis\": {\"anchor\": \"x\", \"domain\": [0.0, 1.0], \"title\": {\"text\": \"longs\"}}},\n",
       "                        {\"responsive\": true}\n",
       "                    ).then(function(){\n",
       "                            \n",
       "var gd = document.getElementById('65ca7393-9ebe-4d82-a7e2-b85e75bd1d31');\n",
       "var x = new MutationObserver(function (mutations, observer) {{\n",
       "        var display = window.getComputedStyle(gd).display;\n",
       "        if (!display || display === 'none') {{\n",
       "            console.log([gd, 'removed!']);\n",
       "            Plotly.purge(gd);\n",
       "            observer.disconnect();\n",
       "        }}\n",
       "}});\n",
       "\n",
       "// Listen for the removal of the full notebook cells\n",
       "var notebookContainer = gd.closest('#notebook-container');\n",
       "if (notebookContainer) {{\n",
       "    x.observe(notebookContainer, {childList: true});\n",
       "}}\n",
       "\n",
       "// Listen for the clearing of the current output cell\n",
       "var outputEl = gd.closest('.output');\n",
       "if (outputEl) {{\n",
       "    x.observe(outputEl, {childList: true});\n",
       "}}\n",
       "\n",
       "                        })\n",
       "                };\n",
       "                });\n",
       "            </script>\n",
       "        </div>"
      ]
     },
     "metadata": {},
     "output_type": "display_data"
    }
   ],
   "source": [
    "some_track_id = track_df['track.id'].unique()[24]\n",
    "some_track = track_df[track_df['track.id'] == some_track_id]\n",
    "#some_track.plot()\n",
    "\n",
    "import plotly.express as px\n",
    "\n",
    "dflats = list(some_track['geometry'].apply(lambda coord: coord.y))\n",
    "dflngs = list(some_track['geometry'].apply(lambda coord: coord.x))\n",
    "\n",
    "d = {'lats':dflats,'longs':dflngs}\n",
    "df = pd.DataFrame(d)\n",
    "\n",
    "\n",
    "fig = px.line(df, x=\"lats\", y=\"longs\", title='Some track')\n",
    "fig.show()\n"
   ]
  },
  {
   "cell_type": "code",
   "execution_count": 5,
   "metadata": {},
   "outputs": [
    {
     "data": {
      "text/plain": [
       "<matplotlib.axes._subplots.AxesSubplot at 0x189897064c8>"
      ]
     },
     "execution_count": 5,
     "metadata": {},
     "output_type": "execute_result"
    },
    {
     "data": {
      "image/png": "[encoded data removed]",
      "text/plain": [
       "<Figure size 432x288 with 1 Axes>"
      ]
     },
     "metadata": {
      "needs_background": "light"
     },
     "output_type": "display_data"
    }
   ],
   "source": [
    "ax = some_track['Speed.value'].plot()\n",
    "ax.set_title(\"Speed\")\n",
    "ax.set_ylabel(some_track['Speed.unit'][0])\n",
    "ax"
   ]
  },
  {
   "cell_type": "code",
   "execution_count": 6,
   "metadata": {},
   "outputs": [
    {
     "data": {
      "text/plain": [
       "<matplotlib.axes._subplots.AxesSubplot at 0x189893e2cc8>"
      ]
     },
     "execution_count": 6,
     "metadata": {},
     "output_type": "execute_result"
    },
    {
     "data": {
      "image/png": "[encoded data removed]",
      "text/plain": [
       "<Figure size 432x288 with 1 Axes>"
      ]
     },
     "metadata": {
      "needs_background": "light"
     },
     "output_type": "display_data"
    }
   ],
   "source": [
    "ax = some_track['Engine Load.value'].plot()\n",
    "ax.set_title(\"Engine Load\")\n",
    "ax.set_ylabel(some_track['Engine Load.unit'][0])\n",
    "ax"
   ]
  },
  {
   "cell_type": "markdown",
   "metadata": {},
   "source": [
    "## Interactive Map\n",
    "The following map-based visualization makes use of folium. It allows to visualizate geospatial data based on an interactive leaflet map. Since the data in the GeoDataframe is modelled as a set of Point instead of a LineString, we have to manually create a polyline"
   ]
  },
  {
   "cell_type": "markdown",
   "metadata": {},
   "source": []
  },
  {
   "cell_type": "code",
   "execution_count": 9,
   "metadata": {},
   "outputs": [
    {
     "data": {
      "text/html": [
       "<div style=\"width:100%;\"><div style=\"position:relative;width:100%;height:0;padding-bottom:60%;\"><iframe src=\"about:blank\" style=\"position:absolute;width:100%;height:100%;left:0;top:0;border:none !important;\" data-html=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 onload=\"this.contentDocument.open();this.contentDocument.write(atob(this.getAttribute('data-html')));this.contentDocument.close();\" allowfullscreen webkitallowfullscreen mozallowfullscreen></iframe></div></div>"
      ],
      "text/plain": [
       "<folium.folium.Map at 0x18988ff7108>"
      ]
     },
     "execution_count": 9,
     "metadata": {},
     "output_type": "execute_result"
    }
   ],
   "source": [
    "import folium\n",
    "\n",
    "lats = list(some_track['geometry'].apply(lambda coord: coord.y))\n",
    "lngs = list(some_track['geometry'].apply(lambda coord: coord.x))\n",
    "\n",
    "avg_lat = sum(lats) / len(lats)\n",
    "avg_lngs = sum(lngs) / len(lngs)\n",
    "\n",
    "m = folium.Map(location=[avg_lat, avg_lngs], zoom_start=13)\n",
    "folium.PolyLine([coords for coords in zip(lats, lngs)], color='blue').add_to(m)\n",
    "m\n",
    "\n",
    "#d1 = {'lats':lats,'longs':lngs}\n",
    "#df1 = pd.DataFrame(d1)\n",
    "#fig1 = px.scatter_mapbox(df1, lat=\"lats\", lon=\"longs\", size_max=15, zoom=10)\n",
    "#fig1.update_layout(margin={\"r\":0,\"t\":0,\"l\":0,\"b\":0})\n",
    "#fig1.show()\n"
   ]
  },
  {
   "cell_type": "markdown",
   "metadata": {},
   "source": [
    "# Example: Visualization with pydeck (deck.gl)"
   ]
  },
  {
   "cell_type": "markdown",
   "metadata": {},
   "source": [
    "The pydeck library makes use of the basemap tiles from Mapbox. In case you want to visualize the map with basemap tiles, you need to register with MapBox, and configure a specific access token. The service is free until a certain level of traffic is esceeded.\n",
    "\n",
    "You can either configure it via your terminal (i.e. `export MAPBOX_API_KEY=<mapbox-key-here>`), which pydeck will automatically read, or you can pass it as a variable to the generation of pydeck (i.e. `pdk.Deck(mapbox_key=<mapbox-key-here>, ...)`."
   ]
  },
  {
   "cell_type": "code",
   "execution_count": 18,
   "metadata": {
    "scrolled": true
   },
   "outputs": [
    {
     "data": {
      "text/html": [
       "\n",
       "        <iframe\n",
       "            width=\"900\"\n",
       "            height=\"500\"\n",
       "            src=\"./tracks_muenster.html\"\n",
       "            frameborder=\"0\"\n",
       "            allowfullscreen\n",
       "        ></iframe>\n",
       "        "
      ],
      "text/plain": [
       "<IPython.lib.display.IFrame at 0x1898c8cdd08>"
      ]
     },
     "metadata": {},
     "output_type": "display_data"
    },
    {
     "data": {
      "text/plain": [
       "'C:\\\\Users\\\\User\\\\envirocar-py\\\\examples\\\\tracks_muenster.html'"
      ]
     },
     "execution_count": 18,
     "metadata": {},
     "output_type": "execute_result"
    }
   ],
   "source": [
    "import pydeck as pdk\n",
    "\n",
    "# for pydeck the attributes have to be flat\n",
    "track_df['lat'] = track_df['geometry'].apply(lambda coord: coord.y)\n",
    "track_df['lng'] = track_df['geometry'].apply(lambda coord: coord.x)\n",
    "vis_df = pd.DataFrame(track_df)\n",
    "vis_df['load'] = vis_df['Engine Load.value']\n",
    "\n",
    "# omit unit columns\n",
    "vis_df_cols = [col for col in vis_df.columns if col.lower()[len(col)-4:len(col)] != 'unit']\n",
    "vis_df = vis_df[vis_df_cols]\n",
    "\n",
    "MAPBOX_KEY = \"pk.eyJ1IjoibXByZW1hc2kiLCJhIjoiY2s5NDFueDhyMDFpODNnbjNoNzM1eWhvcCJ9.CqjZdNZJ4h8aejMWX4ZObA\"\n",
    "\n",
    "\n",
    "layer = pdk.Layer(\n",
    "    'ScatterplotLayer',\n",
    "    data=vis_df,\n",
    "    get_position='[lng, lat]',\n",
    "    auto_highlight=True,\n",
    "    get_radius=10,          # Radius is given in meters\n",
    "    get_fill_color='[load < 20 ? 0 : (load - 20)*8.5, load < 50 ? 255 : 255 - (load-50)*8.5, 0, 140]',  # Set an RGBA value for fill\n",
    "    pickable=True\n",
    ")\n",
    "\n",
    "# Set the viewport location\n",
    "view_state = pdk.ViewState(\n",
    "    longitude= 6.433333,\n",
    "    latitude=51.2,\n",
    "    zoom=12,\n",
    "    min_zoom=5,\n",
    "    max_zoom=15,\n",
    "    pitch=40.5,\n",
    "    bearing=-27.36)\n",
    "\n",
    "r = pdk.Deck(\n",
    "    width=200, \n",
    "    layers=[layer],   \n",
    "    initial_view_state=view_state, \n",
    "    mapbox_key = MAPBOX_KEY\n",
    ")\n",
    "r.to_html('tracks_muenster.html', iframe_width=900)"
   ]
  },
  {
   "cell_type": "code",
   "execution_count": null,
   "metadata": {},
   "outputs": [],
   "source": []
  }
 ],
 "metadata": {
  "kernelspec": {
   "display_name": ".env_full",
   "language": "python",
   "name": ".env_full"
  },
  "language_info": {
   "codemirror_mode": {
    "name": "ipython",
    "version": 3
   },
   "file_extension": ".py",
   "mimetype": "text/x-python",
   "name": "python",
   "nbconvert_exporter": "python",
   "pygments_lexer": "ipython3",
   "version": "3.7.7"
  }
 },
 "nbformat": 4,
 "nbformat_minor": 4
}
