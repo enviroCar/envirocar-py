{
 "cells": [
  {
   "cell_type": "markdown",
   "metadata": {},
   "source": [
    "# Package loading and basic configurations"
   ]
  },
  {
   "cell_type": "code",
   "execution_count": 1,
   "metadata": {},
   "outputs": [],
   "source": [
    "%load_ext autoreload\n",
    "%autoreload 2\n",
    "\n",
    "# load dependencies'\n",
    "import pandas as pd\n",
    "import geopandas as gpd\n",
    "import numpy as np\n",
    "\n",
    "from envirocar import TrackAPI, DownloadClient, BboxSelector, ECConfig, TimeSelector\n",
    "\n",
    "# create an initial but optional config and an api client\n",
    "config = ECConfig()\n",
    "track_api = TrackAPI(api_client=DownloadClient(config=config))"
   ]
  },
  {
   "cell_type": "markdown",
   "metadata": {},
   "source": [
    "# Querying enviroCar Tracks"
   ]
  },
  {
   "cell_type": "markdown",
   "metadata": {},
   "source": [
    "The following cell queries tracks from the enviroCar API. It defines a bbox for the area of Münster (Germany) and requests 50 tracks. The result is a GeoDataFrame, which is a geo-extended Pandas dataframe from the GeoPandas library. It contains all information of the track in a flat dataframe format including a specific geometry column. "
   ]
  },
  {
   "cell_type": "code",
   "execution_count": 2,
   "metadata": {},
   "outputs": [
    {
     "data": {
      "text/html": [
       "<div>\n",
       "<style scoped>\n",
       "    .dataframe tbody tr th:only-of-type {\n",
       "        vertical-align: middle;\n",
       "    }\n",
       "\n",
       "    .dataframe tbody tr th {\n",
       "        vertical-align: top;\n",
       "    }\n",
       "\n",
       "    .dataframe thead th {\n",
       "        text-align: right;\n",
       "    }\n",
       "</style>\n",
       "<table border=\"1\" class=\"dataframe\">\n",
       "  <thead>\n",
       "    <tr style=\"text-align: right;\">\n",
       "      <th></th>\n",
       "      <th>id</th>\n",
       "      <th>time</th>\n",
       "      <th>geometry</th>\n",
       "      <th>GPS PDOP.value</th>\n",
       "      <th>GPS PDOP.unit</th>\n",
       "      <th>Speed.value</th>\n",
       "      <th>Speed.unit</th>\n",
       "      <th>GPS Altitude.value</th>\n",
       "      <th>GPS Altitude.unit</th>\n",
       "      <th>GPS Bearing.value</th>\n",
       "      <th>...</th>\n",
       "      <th>Consumption.value</th>\n",
       "      <th>Consumption.unit</th>\n",
       "      <th>track.appVersion</th>\n",
       "      <th>track.touVersion</th>\n",
       "      <th>O2 Lambda Voltage ER.value</th>\n",
       "      <th>O2 Lambda Voltage ER.unit</th>\n",
       "      <th>MAF.value</th>\n",
       "      <th>MAF.unit</th>\n",
       "      <th>O2 Lambda Voltage.value</th>\n",
       "      <th>O2 Lambda Voltage.unit</th>\n",
       "    </tr>\n",
       "  </thead>\n",
       "  <tbody>\n",
       "    <tr>\n",
       "      <th>0</th>\n",
       "      <td>5e8b930965b80c5d6b4d7cd1</td>\n",
       "      <td>2020-03-07T12:33:15</td>\n",
       "      <td>POINT (7.64069 51.95733)</td>\n",
       "      <td>1.090631</td>\n",
       "      <td>precision</td>\n",
       "      <td>28.999999</td>\n",
       "      <td>km/h</td>\n",
       "      <td>110.381939</td>\n",
       "      <td>m</td>\n",
       "      <td>124.858622</td>\n",
       "      <td>...</td>\n",
       "      <td>NaN</td>\n",
       "      <td>NaN</td>\n",
       "      <td>NaN</td>\n",
       "      <td>NaN</td>\n",
       "      <td>NaN</td>\n",
       "      <td>NaN</td>\n",
       "      <td>NaN</td>\n",
       "      <td>NaN</td>\n",
       "      <td>NaN</td>\n",
       "      <td>NaN</td>\n",
       "    </tr>\n",
       "    <tr>\n",
       "      <th>1</th>\n",
       "      <td>5e8b930965b80c5d6b4d7cd3</td>\n",
       "      <td>2020-03-07T12:33:20</td>\n",
       "      <td>POINT (7.64118 51.95712)</td>\n",
       "      <td>1.000000</td>\n",
       "      <td>precision</td>\n",
       "      <td>28.000000</td>\n",
       "      <td>km/h</td>\n",
       "      <td>108.260375</td>\n",
       "      <td>m</td>\n",
       "      <td>125.020801</td>\n",
       "      <td>...</td>\n",
       "      <td>NaN</td>\n",
       "      <td>NaN</td>\n",
       "      <td>NaN</td>\n",
       "      <td>NaN</td>\n",
       "      <td>NaN</td>\n",
       "      <td>NaN</td>\n",
       "      <td>NaN</td>\n",
       "      <td>NaN</td>\n",
       "      <td>NaN</td>\n",
       "      <td>NaN</td>\n",
       "    </tr>\n",
       "    <tr>\n",
       "      <th>2</th>\n",
       "      <td>5e8b930965b80c5d6b4d7cd4</td>\n",
       "      <td>2020-03-07T12:33:26</td>\n",
       "      <td>POINT (7.64162 51.95690)</td>\n",
       "      <td>1.257198</td>\n",
       "      <td>precision</td>\n",
       "      <td>28.000001</td>\n",
       "      <td>km/h</td>\n",
       "      <td>105.826028</td>\n",
       "      <td>m</td>\n",
       "      <td>121.203960</td>\n",
       "      <td>...</td>\n",
       "      <td>NaN</td>\n",
       "      <td>NaN</td>\n",
       "      <td>NaN</td>\n",
       "      <td>NaN</td>\n",
       "      <td>NaN</td>\n",
       "      <td>NaN</td>\n",
       "      <td>NaN</td>\n",
       "      <td>NaN</td>\n",
       "      <td>NaN</td>\n",
       "      <td>NaN</td>\n",
       "    </tr>\n",
       "    <tr>\n",
       "      <th>3</th>\n",
       "      <td>5e8b930965b80c5d6b4d7cd5</td>\n",
       "      <td>2020-03-07T12:33:31</td>\n",
       "      <td>POINT (7.64210 51.95672)</td>\n",
       "      <td>1.000000</td>\n",
       "      <td>precision</td>\n",
       "      <td>30.000000</td>\n",
       "      <td>km/h</td>\n",
       "      <td>104.395998</td>\n",
       "      <td>m</td>\n",
       "      <td>123.412759</td>\n",
       "      <td>...</td>\n",
       "      <td>NaN</td>\n",
       "      <td>NaN</td>\n",
       "      <td>NaN</td>\n",
       "      <td>NaN</td>\n",
       "      <td>NaN</td>\n",
       "      <td>NaN</td>\n",
       "      <td>NaN</td>\n",
       "      <td>NaN</td>\n",
       "      <td>NaN</td>\n",
       "      <td>NaN</td>\n",
       "    </tr>\n",
       "    <tr>\n",
       "      <th>4</th>\n",
       "      <td>5e8b930965b80c5d6b4d7cd6</td>\n",
       "      <td>2020-03-07T12:33:36</td>\n",
       "      <td>POINT (7.64264 51.95650)</td>\n",
       "      <td>1.026727</td>\n",
       "      <td>precision</td>\n",
       "      <td>31.409419</td>\n",
       "      <td>km/h</td>\n",
       "      <td>101.516865</td>\n",
       "      <td>m</td>\n",
       "      <td>122.170479</td>\n",
       "      <td>...</td>\n",
       "      <td>NaN</td>\n",
       "      <td>NaN</td>\n",
       "      <td>NaN</td>\n",
       "      <td>NaN</td>\n",
       "      <td>NaN</td>\n",
       "      <td>NaN</td>\n",
       "      <td>NaN</td>\n",
       "      <td>NaN</td>\n",
       "      <td>NaN</td>\n",
       "      <td>NaN</td>\n",
       "    </tr>\n",
       "    <tr>\n",
       "      <th>...</th>\n",
       "      <td>...</td>\n",
       "      <td>...</td>\n",
       "      <td>...</td>\n",
       "      <td>...</td>\n",
       "      <td>...</td>\n",
       "      <td>...</td>\n",
       "      <td>...</td>\n",
       "      <td>...</td>\n",
       "      <td>...</td>\n",
       "      <td>...</td>\n",
       "      <td>...</td>\n",
       "      <td>...</td>\n",
       "      <td>...</td>\n",
       "      <td>...</td>\n",
       "      <td>...</td>\n",
       "      <td>...</td>\n",
       "      <td>...</td>\n",
       "      <td>...</td>\n",
       "      <td>...</td>\n",
       "      <td>...</td>\n",
       "      <td>...</td>\n",
       "    </tr>\n",
       "    <tr>\n",
       "      <th>141</th>\n",
       "      <td>5de79e3883df6d628235f6cb</td>\n",
       "      <td>2019-12-04T06:40:14</td>\n",
       "      <td>POINT (7.60258 51.96919)</td>\n",
       "      <td>NaN</td>\n",
       "      <td>NaN</td>\n",
       "      <td>0.000000</td>\n",
       "      <td>km/h</td>\n",
       "      <td>107.687455</td>\n",
       "      <td>m</td>\n",
       "      <td>224.190889</td>\n",
       "      <td>...</td>\n",
       "      <td>NaN</td>\n",
       "      <td>NaN</td>\n",
       "      <td>NaN</td>\n",
       "      <td>NaN</td>\n",
       "      <td>1.999969</td>\n",
       "      <td>ratio</td>\n",
       "      <td>9.928095</td>\n",
       "      <td>l/s</td>\n",
       "      <td>0.732361</td>\n",
       "      <td>V</td>\n",
       "    </tr>\n",
       "    <tr>\n",
       "      <th>142</th>\n",
       "      <td>5de79e3883df6d628235f6cc</td>\n",
       "      <td>2019-12-04T06:40:19</td>\n",
       "      <td>POINT (7.60253 51.96917)</td>\n",
       "      <td>NaN</td>\n",
       "      <td>NaN</td>\n",
       "      <td>15.503841</td>\n",
       "      <td>km/h</td>\n",
       "      <td>107.607230</td>\n",
       "      <td>m</td>\n",
       "      <td>233.359496</td>\n",
       "      <td>...</td>\n",
       "      <td>NaN</td>\n",
       "      <td>NaN</td>\n",
       "      <td>NaN</td>\n",
       "      <td>NaN</td>\n",
       "      <td>1.682820</td>\n",
       "      <td>ratio</td>\n",
       "      <td>69.666618</td>\n",
       "      <td>l/s</td>\n",
       "      <td>0.458675</td>\n",
       "      <td>V</td>\n",
       "    </tr>\n",
       "    <tr>\n",
       "      <th>143</th>\n",
       "      <td>5de79e3883df6d628235f6cd</td>\n",
       "      <td>2019-12-04T06:40:24</td>\n",
       "      <td>POINT (7.60192 51.96912)</td>\n",
       "      <td>NaN</td>\n",
       "      <td>NaN</td>\n",
       "      <td>43.862375</td>\n",
       "      <td>km/h</td>\n",
       "      <td>106.214225</td>\n",
       "      <td>m</td>\n",
       "      <td>283.664385</td>\n",
       "      <td>...</td>\n",
       "      <td>NaN</td>\n",
       "      <td>NaN</td>\n",
       "      <td>NaN</td>\n",
       "      <td>NaN</td>\n",
       "      <td>1.454498</td>\n",
       "      <td>ratio</td>\n",
       "      <td>81.895074</td>\n",
       "      <td>l/s</td>\n",
       "      <td>0.341717</td>\n",
       "      <td>V</td>\n",
       "    </tr>\n",
       "    <tr>\n",
       "      <th>144</th>\n",
       "      <td>5de79e3883df6d628235f6ce</td>\n",
       "      <td>2019-12-04T06:40:30</td>\n",
       "      <td>POINT (7.60088 51.96930)</td>\n",
       "      <td>NaN</td>\n",
       "      <td>NaN</td>\n",
       "      <td>54.999998</td>\n",
       "      <td>km/h</td>\n",
       "      <td>106.318071</td>\n",
       "      <td>m</td>\n",
       "      <td>287.260781</td>\n",
       "      <td>...</td>\n",
       "      <td>NaN</td>\n",
       "      <td>NaN</td>\n",
       "      <td>NaN</td>\n",
       "      <td>NaN</td>\n",
       "      <td>1.707472</td>\n",
       "      <td>ratio</td>\n",
       "      <td>28.469685</td>\n",
       "      <td>l/s</td>\n",
       "      <td>0.469096</td>\n",
       "      <td>V</td>\n",
       "    </tr>\n",
       "    <tr>\n",
       "      <th>145</th>\n",
       "      <td>5de79e3883df6d628235f6cf</td>\n",
       "      <td>2019-12-04T06:40:35</td>\n",
       "      <td>POINT (7.59980 51.96951)</td>\n",
       "      <td>NaN</td>\n",
       "      <td>NaN</td>\n",
       "      <td>56.767303</td>\n",
       "      <td>km/h</td>\n",
       "      <td>106.225117</td>\n",
       "      <td>m</td>\n",
       "      <td>287.144643</td>\n",
       "      <td>...</td>\n",
       "      <td>NaN</td>\n",
       "      <td>NaN</td>\n",
       "      <td>NaN</td>\n",
       "      <td>NaN</td>\n",
       "      <td>1.737570</td>\n",
       "      <td>ratio</td>\n",
       "      <td>23.101950</td>\n",
       "      <td>l/s</td>\n",
       "      <td>0.482167</td>\n",
       "      <td>V</td>\n",
       "    </tr>\n",
       "  </tbody>\n",
       "</table>\n",
       "<p>4230 rows × 54 columns</p>\n",
       "</div>"
      ],
      "text/plain": [
       "                           id                 time                  geometry  \\\n",
       "0    5e8b930965b80c5d6b4d7cd1  2020-03-07T12:33:15  POINT (7.64069 51.95733)   \n",
       "1    5e8b930965b80c5d6b4d7cd3  2020-03-07T12:33:20  POINT (7.64118 51.95712)   \n",
       "2    5e8b930965b80c5d6b4d7cd4  2020-03-07T12:33:26  POINT (7.64162 51.95690)   \n",
       "3    5e8b930965b80c5d6b4d7cd5  2020-03-07T12:33:31  POINT (7.64210 51.95672)   \n",
       "4    5e8b930965b80c5d6b4d7cd6  2020-03-07T12:33:36  POINT (7.64264 51.95650)   \n",
       "..                        ...                  ...                       ...   \n",
       "141  5de79e3883df6d628235f6cb  2019-12-04T06:40:14  POINT (7.60258 51.96919)   \n",
       "142  5de79e3883df6d628235f6cc  2019-12-04T06:40:19  POINT (7.60253 51.96917)   \n",
       "143  5de79e3883df6d628235f6cd  2019-12-04T06:40:24  POINT (7.60192 51.96912)   \n",
       "144  5de79e3883df6d628235f6ce  2019-12-04T06:40:30  POINT (7.60088 51.96930)   \n",
       "145  5de79e3883df6d628235f6cf  2019-12-04T06:40:35  POINT (7.59980 51.96951)   \n",
       "\n",
       "     GPS PDOP.value GPS PDOP.unit  Speed.value Speed.unit  GPS Altitude.value  \\\n",
       "0          1.090631     precision    28.999999       km/h          110.381939   \n",
       "1          1.000000     precision    28.000000       km/h          108.260375   \n",
       "2          1.257198     precision    28.000001       km/h          105.826028   \n",
       "3          1.000000     precision    30.000000       km/h          104.395998   \n",
       "4          1.026727     precision    31.409419       km/h          101.516865   \n",
       "..              ...           ...          ...        ...                 ...   \n",
       "141             NaN           NaN     0.000000       km/h          107.687455   \n",
       "142             NaN           NaN    15.503841       km/h          107.607230   \n",
       "143             NaN           NaN    43.862375       km/h          106.214225   \n",
       "144             NaN           NaN    54.999998       km/h          106.318071   \n",
       "145             NaN           NaN    56.767303       km/h          106.225117   \n",
       "\n",
       "    GPS Altitude.unit  GPS Bearing.value  ... Consumption.value  \\\n",
       "0                   m         124.858622  ...               NaN   \n",
       "1                   m         125.020801  ...               NaN   \n",
       "2                   m         121.203960  ...               NaN   \n",
       "3                   m         123.412759  ...               NaN   \n",
       "4                   m         122.170479  ...               NaN   \n",
       "..                ...                ...  ...               ...   \n",
       "141                 m         224.190889  ...               NaN   \n",
       "142                 m         233.359496  ...               NaN   \n",
       "143                 m         283.664385  ...               NaN   \n",
       "144                 m         287.260781  ...               NaN   \n",
       "145                 m         287.144643  ...               NaN   \n",
       "\n",
       "     Consumption.unit track.appVersion  track.touVersion  \\\n",
       "0                 NaN              NaN               NaN   \n",
       "1                 NaN              NaN               NaN   \n",
       "2                 NaN              NaN               NaN   \n",
       "3                 NaN              NaN               NaN   \n",
       "4                 NaN              NaN               NaN   \n",
       "..                ...              ...               ...   \n",
       "141               NaN              NaN               NaN   \n",
       "142               NaN              NaN               NaN   \n",
       "143               NaN              NaN               NaN   \n",
       "144               NaN              NaN               NaN   \n",
       "145               NaN              NaN               NaN   \n",
       "\n",
       "    O2 Lambda Voltage ER.value  O2 Lambda Voltage ER.unit  MAF.value  \\\n",
       "0                          NaN                        NaN        NaN   \n",
       "1                          NaN                        NaN        NaN   \n",
       "2                          NaN                        NaN        NaN   \n",
       "3                          NaN                        NaN        NaN   \n",
       "4                          NaN                        NaN        NaN   \n",
       "..                         ...                        ...        ...   \n",
       "141                   1.999969                      ratio   9.928095   \n",
       "142                   1.682820                      ratio  69.666618   \n",
       "143                   1.454498                      ratio  81.895074   \n",
       "144                   1.707472                      ratio  28.469685   \n",
       "145                   1.737570                      ratio  23.101950   \n",
       "\n",
       "     MAF.unit O2 Lambda Voltage.value  O2 Lambda Voltage.unit  \n",
       "0         NaN                     NaN                     NaN  \n",
       "1         NaN                     NaN                     NaN  \n",
       "2         NaN                     NaN                     NaN  \n",
       "3         NaN                     NaN                     NaN  \n",
       "4         NaN                     NaN                     NaN  \n",
       "..        ...                     ...                     ...  \n",
       "141       l/s                0.732361                       V  \n",
       "142       l/s                0.458675                       V  \n",
       "143       l/s                0.341717                       V  \n",
       "144       l/s                0.469096                       V  \n",
       "145       l/s                0.482167                       V  \n",
       "\n",
       "[4230 rows x 54 columns]"
      ]
     },
     "execution_count": 2,
     "metadata": {},
     "output_type": "execute_result"
    }
   ],
   "source": [
    "bbox = BboxSelector([\n",
    "    7.60000, # min_x\n",
    "    51.9500, # min_y\n",
    "    7.64800, # max_x\n",
    "    51.97300  # max_y\n",
    "])\n",
    "\n",
    "# issue a query\n",
    "track_df = track_api.get_tracks(bbox=bbox, num_results=20) # requesting 20 tracks inside the bbox\n",
    "track_df"
   ]
  },
  {
   "cell_type": "code",
   "execution_count": 3,
   "metadata": {},
   "outputs": [
    {
     "data": {
      "text/plain": [
       "<matplotlib.axes._subplots.AxesSubplot at 0x1bb91f93978>"
      ]
     },
     "execution_count": 3,
     "metadata": {},
     "output_type": "execute_result"
    },
    {
     "data": {
      "image/png": "[encoded data removed]",
      "text/plain": [
       "<Figure size 576x720 with 1 Axes>"
      ]
     },
     "metadata": {
      "needs_background": "light"
     },
     "output_type": "display_data"
    }
   ],
   "source": [
    "track_df.plot(figsize=(8, 10))"
   ]
  },
  {
   "cell_type": "markdown",
   "metadata": {},
   "source": [
    "# Inspecting a single Track"
   ]
  },
  {
   "cell_type": "code",
   "execution_count": 4,
   "metadata": {},
   "outputs": [
    {
     "data": {
      "text/plain": [
       "<matplotlib.axes._subplots.AxesSubplot at 0x1bb920a8d30>"
      ]
     },
     "execution_count": 4,
     "metadata": {},
     "output_type": "execute_result"
    },
    {
     "data": {
      "image/png": "[encoded data removed]",
      "text/plain": [
       "<Figure size 432x288 with 1 Axes>"
      ]
     },
     "metadata": {
      "needs_background": "light"
     },
     "output_type": "display_data"
    }
   ],
   "source": [
    "some_track_id = track_df['track.id'].unique()[2]\n",
    "some_track = track_df[track_df['track.id'] == some_track_id]\n",
    "some_track.plot(color='red')"
   ]
  },
  {
   "cell_type": "code",
   "execution_count": 5,
   "metadata": {
    "scrolled": true
   },
   "outputs": [
    {
     "data": {
      "text/plain": [
       "<matplotlib.axes._subplots.AxesSubplot at 0x1bb93cb5780>"
      ]
     },
     "execution_count": 5,
     "metadata": {},
     "output_type": "execute_result"
    },
    {
     "data": {
      "image/png": "[encoded data removed]",
      "text/plain": [
       "<Figure size 432x288 with 1 Axes>"
      ]
     },
     "metadata": {
      "needs_background": "light"
     },
     "output_type": "display_data"
    }
   ],
   "source": [
    "ax = some_track['Speed.value'].plot(color='green')\n",
    "ax.set_title(\"Speed\")\n",
    "ax.set_ylabel(some_track['Speed.unit'][0])\n",
    "ax"
   ]
  },
  {
   "cell_type": "markdown",
   "metadata": {},
   "source": [
    "# Plot histogram for fuel consumption value "
   ]
  },
  {
   "cell_type": "code",
   "execution_count": 6,
   "metadata": {},
   "outputs": [
    {
     "data": {
      "text/plain": [
       "array([[<matplotlib.axes._subplots.AxesSubplot object at 0x000001BB93E97978>]],\n",
       "      dtype=object)"
      ]
     },
     "execution_count": 6,
     "metadata": {},
     "output_type": "execute_result"
    },
    {
     "data": {
      "image/png": "[encoded data removed]",
      "text/plain": [
       "<Figure size 432x288 with 1 Axes>"
      ]
     },
     "metadata": {
      "needs_background": "light"
     },
     "output_type": "display_data"
    }
   ],
   "source": [
    "some_track.hist(column='Consumption.value')"
   ]
  },
  {
   "cell_type": "markdown",
   "metadata": {},
   "source": [
    "## Interactive Map\n",
    "The following map-based visualization makes use of folium. It allows to visualizate geospatial data based on an interactive leaflet map. Since the data in the GeoDataframe is modelled as a set of Point instead of a LineString, we have to manually create a polyline"
   ]
  },
  {
   "cell_type": "code",
   "execution_count": 7,
   "metadata": {
    "scrolled": true
   },
   "outputs": [
    {
     "data": {
      "text/html": [
       "<div style=\"width:100%;\"><div style=\"position:relative;width:100%;height:0;padding-bottom:60%;\"><iframe src=\"about:blank\" style=\"position:absolute;width:100%;height:100%;left:0;top:0;border:none !important;\" data-html=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 onload=\"this.contentDocument.open();this.contentDocument.write(atob(this.getAttribute('data-html')));this.contentDocument.close();\" allowfullscreen webkitallowfullscreen mozallowfullscreen></iframe></div></div>"
      ],
      "text/plain": [
       "<folium.folium.Map at 0x1bb960e1a20>"
      ]
     },
     "execution_count": 7,
     "metadata": {},
     "output_type": "execute_result"
    }
   ],
   "source": [
    "import folium\n",
    "\n",
    "lats = list(some_track['geometry'].apply(lambda coord: coord.y))\n",
    "lngs = list(some_track['geometry'].apply(lambda coord: coord.x))\n",
    "\n",
    "avg_lat = sum(lats) / len(lats)\n",
    "avg_lngs = sum(lngs) / len(lngs)\n",
    "\n",
    "m = folium.Map(location=[avg_lat, avg_lngs], tiles=\"Stamen Toner\",zoom_start=12)\n",
    "folium.PolyLine([coords for coords in zip(lats, lngs)], color='red').add_to(m)\n",
    "m"
   ]
  },
  {
   "cell_type": "markdown",
   "metadata": {},
   "source": [
    "# Example: Visualization with pydeck (deck.gl)"
   ]
  },
  {
   "cell_type": "markdown",
   "metadata": {},
   "source": [
    "The pydeck library makes use of the basemap tiles from Mapbox. In case you want to visualize the map with basemap tiles, you need to register with MapBox, and configure a specific access token. The service is free until a certain level of traffic is esceeded.\n",
    "\n",
    "You can either configure it via your terminal (i.e. `export MAPBOX_API_KEY=<mapbox-key-here>`), which pydeck will automatically read, or you can pass it as a variable to the generation of pydeck (i.e. `pdk.Deck(mapbox_key=<mapbox-key-here>, ...)`."
   ]
  },
  {
   "cell_type": "code",
   "execution_count": 8,
   "metadata": {},
   "outputs": [
    {
     "data": {
      "text/html": [
       "\n",
       "        <iframe\n",
       "            width=\"900\"\n",
       "            height=\"500\"\n",
       "            src=\"./tracks_muenster.html\"\n",
       "            frameborder=\"0\"\n",
       "            allowfullscreen\n",
       "        ></iframe>\n",
       "        "
      ],
      "text/plain": [
       "<IPython.lib.display.IFrame at 0x1bb93c5aa90>"
      ]
     },
     "metadata": {},
     "output_type": "display_data"
    },
    {
     "data": {
      "text/plain": [
       "'C:\\\\Users\\\\DELL\\\\Documents\\\\GitHub\\\\envirocar-py\\\\examples\\\\tracks_muenster.html'"
      ]
     },
     "execution_count": 8,
     "metadata": {},
     "output_type": "execute_result"
    }
   ],
   "source": [
    "import pydeck as pdk\n",
    "\n",
    "# for pydeck the attributes have to be flat\n",
    "track_df['lat'] = track_df['geometry'].apply(lambda coord: coord.y)\n",
    "track_df['lng'] = track_df['geometry'].apply(lambda coord: coord.x)\n",
    "vis_df = pd.DataFrame(track_df)\n",
    "vis_df['speed'] = vis_df['Speed.value']\n",
    "\n",
    "# omit unit columns\n",
    "vis_df_cols = [col for col in vis_df.columns if col.lower()[len(col)-4:len(col)] != 'unit']\n",
    "vis_df = vis_df[vis_df_cols]\n",
    "\n",
    "layer = pdk.Layer(\n",
    "    'ScatterplotLayer',\n",
    "    data=vis_df,\n",
    "    get_position='[lng, lat]',\n",
    "    auto_highlight=True,\n",
    "    get_radius=10,          # Radius is given in meters\n",
    "    get_fill_color='[speed < 20 ? 0 : (speed - 20)*8.5, speed < 50 ? 255 : 255 - (speed-50)*8.5, 0, 140]',  # Set an RGBA value for fill\n",
    "    pickable=True\n",
    ")\n",
    "\n",
    "# Set the viewport location\n",
    "view_state = pdk.ViewState(\n",
    "    longitude=7.5963592529296875,\n",
    "    latitude=51.96246168188569,\n",
    "    zoom=10,\n",
    "    min_zoom=5,\n",
    "    max_zoom=15,\n",
    "    pitch=40.5,\n",
    "    bearing=-27.36)\n",
    "\n",
    "r = pdk.Deck(\n",
    "    width=200, \n",
    "    layers=[layer], \n",
    "    initial_view_state=view_state , mapbox_key='pk.eyJ1Ijoic2lnZGVsZyIsImEiOiJjazh3dHk2YnQwMGFtM2tuNWtieDN2cmUzIn0.n8h9TtiewMdFuEJPO_q8Rg'\n",
    ")\n",
    "r.to_html('tracks_muenster.html', iframe_width=900)"
   ]
  }
 ],
 "metadata": {
  "kernelspec": {
   "display_name": "Python 3",
   "language": "python",
   "name": "python3"
  },
  "language_info": {
   "codemirror_mode": {
    "name": "ipython",
    "version": 3
   },
   "file_extension": ".py",
   "mimetype": "text/x-python",
   "name": "python",
   "nbconvert_exporter": "python",
   "pygments_lexer": "ipython3",
   "version": "3.7.1"
  }
 },
 "nbformat": 4,
 "nbformat_minor": 4
}
